{
 "cells": [
  {
   "cell_type": "code",
   "execution_count": 93,
   "metadata": {},
   "outputs": [],
   "source": [
    "import pandas as pd \n",
    "import numpy as np"
   ]
  },
  {
   "cell_type": "code",
   "execution_count": 94,
   "metadata": {},
   "outputs": [],
   "source": [
    "master_frame1=pd.read_csv(r\"data/master_frame1.csv\")"
   ]
  },
  {
   "cell_type": "markdown",
   "metadata": {},
   "source": [
    "## checkpoint-2"
   ]
  },
  {
   "cell_type": "markdown",
   "metadata": {},
   "source": [
    "###### Q1-Average funding amount of venture?"
   ]
  },
  {
   "cell_type": "code",
   "execution_count": 95,
   "metadata": {},
   "outputs": [
    {
     "data": {
      "text/plain": [
       "funding_round_type\n",
       "private_equity    73938486.28\n",
       "venture           11724222.69\n",
       "angel               971573.89\n",
       "seed                747793.68\n",
       "Name: raised_amount_usd, dtype: float64"
      ]
     },
     "execution_count": 95,
     "metadata": {},
     "output_type": "execute_result"
    }
   ],
   "source": [
    "round(master_frame1.groupby(by='funding_round_type')['raised_amount_usd'].mean().sort_values(ascending=False),2)"
   ]
  },
  {
   "cell_type": "code",
   "execution_count": 96,
   "metadata": {},
   "outputs": [],
   "source": [
    "venture_avg=master_frame1[master_frame1.funding_round_type=='venture']\n"
   ]
  },
  {
   "cell_type": "code",
   "execution_count": 97,
   "metadata": {},
   "outputs": [
    {
     "data": {
      "text/plain": [
       "11724222.690204773"
      ]
     },
     "execution_count": 97,
     "metadata": {},
     "output_type": "execute_result"
    }
   ],
   "source": [
    "venture_avg.raised_amount_usd.mean()"
   ]
  },
  {
   "cell_type": "markdown",
   "metadata": {},
   "source": [
    "##### Q2-Average funding amount of angel type?"
   ]
  },
  {
   "cell_type": "code",
   "execution_count": 98,
   "metadata": {},
   "outputs": [],
   "source": [
    "angel_avg=master_frame1[master_frame1.funding_round_type=='angel']"
   ]
  },
  {
   "cell_type": "code",
   "execution_count": 99,
   "metadata": {},
   "outputs": [
    {
     "data": {
      "text/plain": [
       "971573.8911363636"
      ]
     },
     "execution_count": 99,
     "metadata": {},
     "output_type": "execute_result"
    }
   ],
   "source": [
    "angel_avg.raised_amount_usd.mean()"
   ]
  },
  {
   "cell_type": "markdown",
   "metadata": {},
   "source": [
    "##### Q3-Average funding amount of seed type?"
   ]
  },
  {
   "cell_type": "code",
   "execution_count": 100,
   "metadata": {},
   "outputs": [],
   "source": [
    "seed_avg=master_frame1[master_frame1.funding_round_type=='seed']"
   ]
  },
  {
   "cell_type": "code",
   "execution_count": 101,
   "metadata": {},
   "outputs": [
    {
     "data": {
      "text/plain": [
       "747793.6824840009"
      ]
     },
     "execution_count": 101,
     "metadata": {},
     "output_type": "execute_result"
    }
   ],
   "source": [
    "seed_avg.raised_amount_usd.mean()"
   ]
  },
  {
   "cell_type": "markdown",
   "metadata": {},
   "source": [
    "##### Q4-Average funding amount of private equity type?"
   ]
  },
  {
   "cell_type": "code",
   "execution_count": 102,
   "metadata": {},
   "outputs": [],
   "source": [
    "private_equity_avg=master_frame1[master_frame1.funding_round_type=='private_equity']"
   ]
  },
  {
   "cell_type": "code",
   "execution_count": 103,
   "metadata": {},
   "outputs": [
    {
     "data": {
      "text/plain": [
       "73938486.27527472"
      ]
     },
     "execution_count": 103,
     "metadata": {},
     "output_type": "execute_result"
    }
   ],
   "source": [
    "private_equity_avg.raised_amount_usd.mean()"
   ]
  },
  {
   "cell_type": "markdown",
   "metadata": {},
   "source": [
    "##### Q5-Considering that Spark Funds wants to invest between 5 to 15 million USD per  investment round, which investment type is the most suitable for them?"
   ]
  },
  {
   "cell_type": "code",
   "execution_count": 104,
   "metadata": {},
   "outputs": [
    {
     "data": {
      "text/html": [
       "<div>\n",
       "<style scoped>\n",
       "    .dataframe tbody tr th:only-of-type {\n",
       "        vertical-align: middle;\n",
       "    }\n",
       "\n",
       "    .dataframe tbody tr th {\n",
       "        vertical-align: top;\n",
       "    }\n",
       "\n",
       "    .dataframe thead th {\n",
       "        text-align: right;\n",
       "    }\n",
       "</style>\n",
       "<table border=\"1\" class=\"dataframe\">\n",
       "  <thead>\n",
       "    <tr style=\"text-align: right;\">\n",
       "      <th></th>\n",
       "      <th>permalink</th>\n",
       "      <th>category_list</th>\n",
       "      <th>country_code</th>\n",
       "      <th>funding_round_type</th>\n",
       "      <th>raised_amount_usd</th>\n",
       "    </tr>\n",
       "  </thead>\n",
       "  <tbody>\n",
       "    <tr>\n",
       "      <th>0</th>\n",
       "      <td>fame</td>\n",
       "      <td>Media</td>\n",
       "      <td>IND</td>\n",
       "      <td>venture</td>\n",
       "      <td>10000000.0</td>\n",
       "    </tr>\n",
       "    <tr>\n",
       "      <th>1</th>\n",
       "      <td>qounter</td>\n",
       "      <td>Application Platforms</td>\n",
       "      <td>USA</td>\n",
       "      <td>seed</td>\n",
       "      <td>700000.0</td>\n",
       "    </tr>\n",
       "    <tr>\n",
       "      <th>2</th>\n",
       "      <td>0-6-com</td>\n",
       "      <td>Curated Web</td>\n",
       "      <td>CHN</td>\n",
       "      <td>venture</td>\n",
       "      <td>2000000.0</td>\n",
       "    </tr>\n",
       "    <tr>\n",
       "      <th>3</th>\n",
       "      <td>0ndine-biomedical-inc</td>\n",
       "      <td>Biotechnology</td>\n",
       "      <td>CAN</td>\n",
       "      <td>seed</td>\n",
       "      <td>43360.0</td>\n",
       "    </tr>\n",
       "    <tr>\n",
       "      <th>4</th>\n",
       "      <td>0ndine-biomedical-inc</td>\n",
       "      <td>Biotechnology</td>\n",
       "      <td>CAN</td>\n",
       "      <td>venture</td>\n",
       "      <td>719491.0</td>\n",
       "    </tr>\n",
       "  </tbody>\n",
       "</table>\n",
       "</div>"
      ],
      "text/plain": [
       "               permalink          category_list country_code  \\\n",
       "0                   fame                  Media          IND   \n",
       "1                qounter  Application Platforms          USA   \n",
       "2                0-6-com            Curated Web          CHN   \n",
       "3  0ndine-biomedical-inc          Biotechnology          CAN   \n",
       "4  0ndine-biomedical-inc          Biotechnology          CAN   \n",
       "\n",
       "  funding_round_type  raised_amount_usd  \n",
       "0            venture         10000000.0  \n",
       "1               seed           700000.0  \n",
       "2            venture          2000000.0  \n",
       "3               seed            43360.0  \n",
       "4            venture           719491.0  "
      ]
     },
     "execution_count": 104,
     "metadata": {},
     "output_type": "execute_result"
    }
   ],
   "source": [
    "master_frame1.head()"
   ]
  },
  {
   "cell_type": "code",
   "execution_count": 105,
   "metadata": {},
   "outputs": [
    {
     "data": {
      "text/plain": [
       "funding_round_type\n",
       "private_equity    73938486.28\n",
       "venture           11724222.69\n",
       "angel               971573.89\n",
       "seed                747793.68\n",
       "Name: raised_amount_usd, dtype: float64"
      ]
     },
     "execution_count": 105,
     "metadata": {},
     "output_type": "execute_result"
    }
   ],
   "source": [
    "round(master_frame1.groupby(by='funding_round_type')['raised_amount_usd'].mean().sort_values(ascending=False),2)"
   ]
  },
  {
   "cell_type": "markdown",
   "metadata": {},
   "source": [
    "##### we can see the venture funding is b/w 5m-15m"
   ]
  },
  {
   "cell_type": "code",
   "execution_count": 106,
   "metadata": {},
   "outputs": [],
   "source": [
    "venture_avg.to_csv(r'data/venture_avg.csv',index=False)"
   ]
  },
  {
   "cell_type": "code",
   "execution_count": 107,
   "metadata": {},
   "outputs": [
    {
     "data": {
      "text/html": [
       "<div>\n",
       "<style scoped>\n",
       "    .dataframe tbody tr th:only-of-type {\n",
       "        vertical-align: middle;\n",
       "    }\n",
       "\n",
       "    .dataframe tbody tr th {\n",
       "        vertical-align: top;\n",
       "    }\n",
       "\n",
       "    .dataframe thead th {\n",
       "        text-align: right;\n",
       "    }\n",
       "</style>\n",
       "<table border=\"1\" class=\"dataframe\">\n",
       "  <thead>\n",
       "    <tr style=\"text-align: right;\">\n",
       "      <th></th>\n",
       "      <th>permalink</th>\n",
       "      <th>category_list</th>\n",
       "      <th>country_code</th>\n",
       "      <th>funding_round_type</th>\n",
       "      <th>raised_amount_usd</th>\n",
       "    </tr>\n",
       "  </thead>\n",
       "  <tbody>\n",
       "    <tr>\n",
       "      <th>0</th>\n",
       "      <td>fame</td>\n",
       "      <td>Media</td>\n",
       "      <td>IND</td>\n",
       "      <td>venture</td>\n",
       "      <td>10000000.0</td>\n",
       "    </tr>\n",
       "    <tr>\n",
       "      <th>2</th>\n",
       "      <td>0-6-com</td>\n",
       "      <td>Curated Web</td>\n",
       "      <td>CHN</td>\n",
       "      <td>venture</td>\n",
       "      <td>2000000.0</td>\n",
       "    </tr>\n",
       "    <tr>\n",
       "      <th>4</th>\n",
       "      <td>0ndine-biomedical-inc</td>\n",
       "      <td>Biotechnology</td>\n",
       "      <td>CAN</td>\n",
       "      <td>venture</td>\n",
       "      <td>719491.0</td>\n",
       "    </tr>\n",
       "    <tr>\n",
       "      <th>6</th>\n",
       "      <td>0xdata</td>\n",
       "      <td>Analytics</td>\n",
       "      <td>USA</td>\n",
       "      <td>venture</td>\n",
       "      <td>20000000.0</td>\n",
       "    </tr>\n",
       "    <tr>\n",
       "      <th>7</th>\n",
       "      <td>0xdata</td>\n",
       "      <td>Analytics</td>\n",
       "      <td>USA</td>\n",
       "      <td>venture</td>\n",
       "      <td>1700000.0</td>\n",
       "    </tr>\n",
       "    <tr>\n",
       "      <th>8</th>\n",
       "      <td>0xdata</td>\n",
       "      <td>Analytics</td>\n",
       "      <td>USA</td>\n",
       "      <td>venture</td>\n",
       "      <td>8900000.0</td>\n",
       "    </tr>\n",
       "    <tr>\n",
       "      <th>13</th>\n",
       "      <td>1-mainstream</td>\n",
       "      <td>Apps</td>\n",
       "      <td>USA</td>\n",
       "      <td>venture</td>\n",
       "      <td>5000000.0</td>\n",
       "    </tr>\n",
       "    <tr>\n",
       "      <th>14</th>\n",
       "      <td>10-minutes-with</td>\n",
       "      <td>Education</td>\n",
       "      <td>GBR</td>\n",
       "      <td>venture</td>\n",
       "      <td>4000000.0</td>\n",
       "    </tr>\n",
       "    <tr>\n",
       "      <th>18</th>\n",
       "      <td>1000memories</td>\n",
       "      <td>Curated Web</td>\n",
       "      <td>USA</td>\n",
       "      <td>venture</td>\n",
       "      <td>2520000.0</td>\n",
       "    </tr>\n",
       "    <tr>\n",
       "      <th>20</th>\n",
       "      <td>1000museums-com</td>\n",
       "      <td>Curated Web</td>\n",
       "      <td>USA</td>\n",
       "      <td>venture</td>\n",
       "      <td>265940.0</td>\n",
       "    </tr>\n",
       "  </tbody>\n",
       "</table>\n",
       "</div>"
      ],
      "text/plain": [
       "                permalink  category_list country_code funding_round_type  \\\n",
       "0                    fame          Media          IND            venture   \n",
       "2                 0-6-com    Curated Web          CHN            venture   \n",
       "4   0ndine-biomedical-inc  Biotechnology          CAN            venture   \n",
       "6                  0xdata      Analytics          USA            venture   \n",
       "7                  0xdata      Analytics          USA            venture   \n",
       "8                  0xdata      Analytics          USA            venture   \n",
       "13           1-mainstream           Apps          USA            venture   \n",
       "14        10-minutes-with      Education          GBR            venture   \n",
       "18           1000memories    Curated Web          USA            venture   \n",
       "20        1000museums-com    Curated Web          USA            venture   \n",
       "\n",
       "    raised_amount_usd  \n",
       "0          10000000.0  \n",
       "2           2000000.0  \n",
       "4            719491.0  \n",
       "6          20000000.0  \n",
       "7           1700000.0  \n",
       "8           8900000.0  \n",
       "13          5000000.0  \n",
       "14          4000000.0  \n",
       "18          2520000.0  \n",
       "20           265940.0  "
      ]
     },
     "execution_count": 107,
     "metadata": {},
     "output_type": "execute_result"
    }
   ],
   "source": [
    "venture_avg.head(10)"
   ]
  },
  {
   "cell_type": "markdown",
   "metadata": {},
   "source": [
    "# fetching the data on wikipedia"
   ]
  },
  {
   "cell_type": "code",
   "execution_count": 108,
   "metadata": {},
   "outputs": [],
   "source": [
    "english_lang = pd.read_html(\"https://en.wikipedia.org/wiki/List_of_territorial_entities_where_English_is_an_official_language\")"
   ]
  },
  {
   "cell_type": "code",
   "execution_count": 109,
   "metadata": {},
   "outputs": [
    {
     "data": {
      "text/html": [
       "<div>\n",
       "<style scoped>\n",
       "    .dataframe tbody tr th:only-of-type {\n",
       "        vertical-align: middle;\n",
       "    }\n",
       "\n",
       "    .dataframe tbody tr th {\n",
       "        vertical-align: top;\n",
       "    }\n",
       "\n",
       "    .dataframe thead th {\n",
       "        text-align: right;\n",
       "    }\n",
       "</style>\n",
       "<table border=\"1\" class=\"dataframe\">\n",
       "  <thead>\n",
       "    <tr style=\"text-align: right;\">\n",
       "      <th></th>\n",
       "      <th>Nr</th>\n",
       "      <th>Country</th>\n",
       "      <th>Alpha-3 code</th>\n",
       "      <th>Region</th>\n",
       "      <th>Population</th>\n",
       "      <th>Primary language?</th>\n",
       "    </tr>\n",
       "  </thead>\n",
       "  <tbody>\n",
       "    <tr>\n",
       "      <th>0</th>\n",
       "      <td>1</td>\n",
       "      <td>Australia</td>\n",
       "      <td>AUS</td>\n",
       "      <td>Oceania</td>\n",
       "      <td>25019600</td>\n",
       "      <td>Yes</td>\n",
       "    </tr>\n",
       "    <tr>\n",
       "      <th>1</th>\n",
       "      <td>2</td>\n",
       "      <td>New Zealand[1]</td>\n",
       "      <td>NZL</td>\n",
       "      <td>Oceania</td>\n",
       "      <td>4893830</td>\n",
       "      <td>Yes</td>\n",
       "    </tr>\n",
       "    <tr>\n",
       "      <th>2</th>\n",
       "      <td>3</td>\n",
       "      <td>United Kingdom</td>\n",
       "      <td>GBR</td>\n",
       "      <td>Europe</td>\n",
       "      <td>66040229</td>\n",
       "      <td>Yes</td>\n",
       "    </tr>\n",
       "    <tr>\n",
       "      <th>3</th>\n",
       "      <td>4</td>\n",
       "      <td>United States</td>\n",
       "      <td>USA</td>\n",
       "      <td>North America/Oceania</td>\n",
       "      <td>328239523</td>\n",
       "      <td>Yes</td>\n",
       "    </tr>\n",
       "  </tbody>\n",
       "</table>\n",
       "</div>"
      ],
      "text/plain": [
       "   Nr         Country Alpha-3 code                 Region  Population  \\\n",
       "0   1       Australia          AUS                Oceania    25019600   \n",
       "1   2  New Zealand[1]          NZL                Oceania     4893830   \n",
       "2   3  United Kingdom          GBR                 Europe    66040229   \n",
       "3   4   United States          USA  North America/Oceania   328239523   \n",
       "\n",
       "  Primary language?  \n",
       "0               Yes  \n",
       "1               Yes  \n",
       "2               Yes  \n",
       "3               Yes  "
      ]
     },
     "execution_count": 109,
     "metadata": {},
     "output_type": "execute_result"
    }
   ],
   "source": [
    "t1=english_lang[0]  #select the first table\n",
    "t1"
   ]
  },
  {
   "cell_type": "code",
   "execution_count": 110,
   "metadata": {},
   "outputs": [
    {
     "data": {
      "text/html": [
       "<div>\n",
       "<style scoped>\n",
       "    .dataframe tbody tr th:only-of-type {\n",
       "        vertical-align: middle;\n",
       "    }\n",
       "\n",
       "    .dataframe tbody tr th {\n",
       "        vertical-align: top;\n",
       "    }\n",
       "\n",
       "    .dataframe thead th {\n",
       "        text-align: right;\n",
       "    }\n",
       "</style>\n",
       "<table border=\"1\" class=\"dataframe\">\n",
       "  <thead>\n",
       "    <tr style=\"text-align: right;\">\n",
       "      <th></th>\n",
       "      <th>Nr</th>\n",
       "      <th>Country</th>\n",
       "      <th>Alpha-3 code</th>\n",
       "      <th>Region</th>\n",
       "      <th>Population1</th>\n",
       "      <th>Primary language?</th>\n",
       "    </tr>\n",
       "  </thead>\n",
       "  <tbody>\n",
       "    <tr>\n",
       "      <th>0</th>\n",
       "      <td>1</td>\n",
       "      <td>Antigua and Barbuda[2]</td>\n",
       "      <td>ATG</td>\n",
       "      <td>Caribbean</td>\n",
       "      <td>85000</td>\n",
       "      <td>Yes</td>\n",
       "    </tr>\n",
       "    <tr>\n",
       "      <th>1</th>\n",
       "      <td>2</td>\n",
       "      <td>Bahamas[2]</td>\n",
       "      <td>BHS</td>\n",
       "      <td>Caribbean</td>\n",
       "      <td>331000</td>\n",
       "      <td>Yes</td>\n",
       "    </tr>\n",
       "    <tr>\n",
       "      <th>2</th>\n",
       "      <td>3</td>\n",
       "      <td>Barbados[3]</td>\n",
       "      <td>BRB</td>\n",
       "      <td>Caribbean</td>\n",
       "      <td>294000</td>\n",
       "      <td>Yes</td>\n",
       "    </tr>\n",
       "    <tr>\n",
       "      <th>3</th>\n",
       "      <td>4</td>\n",
       "      <td>Belize[4]</td>\n",
       "      <td>BLZ</td>\n",
       "      <td>Central America</td>\n",
       "      <td>288000</td>\n",
       "      <td>Yes</td>\n",
       "    </tr>\n",
       "    <tr>\n",
       "      <th>4</th>\n",
       "      <td>5</td>\n",
       "      <td>Botswana[4]</td>\n",
       "      <td>BWA</td>\n",
       "      <td>Africa</td>\n",
       "      <td>1882000</td>\n",
       "      <td>No</td>\n",
       "    </tr>\n",
       "  </tbody>\n",
       "</table>\n",
       "</div>"
      ],
      "text/plain": [
       "   Nr                 Country Alpha-3 code           Region Population1  \\\n",
       "0   1  Antigua and Barbuda[2]          ATG        Caribbean       85000   \n",
       "1   2              Bahamas[2]          BHS        Caribbean      331000   \n",
       "2   3             Barbados[3]          BRB        Caribbean      294000   \n",
       "3   4               Belize[4]          BLZ  Central America      288000   \n",
       "4   5             Botswana[4]          BWA           Africa     1882000   \n",
       "\n",
       "  Primary language?  \n",
       "0               Yes  \n",
       "1               Yes  \n",
       "2               Yes  \n",
       "3               Yes  \n",
       "4                No  "
      ]
     },
     "execution_count": 110,
     "metadata": {},
     "output_type": "execute_result"
    }
   ],
   "source": [
    "t2 = english_lang[1] #select the second table\n",
    "t2.head()"
   ]
  },
  {
   "cell_type": "code",
   "execution_count": 111,
   "metadata": {},
   "outputs": [],
   "source": [
    "t1=t1[['Alpha-3 code','Primary language?']] #contain only alpha-2 code or primary language in t1 dataframe"
   ]
  },
  {
   "cell_type": "code",
   "execution_count": 112,
   "metadata": {},
   "outputs": [],
   "source": [
    "t2 = t2[['Alpha-3 code','Primary language?']] #contain only alpha-2 code or primary language in t2 dataframe"
   ]
  },
  {
   "cell_type": "code",
   "execution_count": 113,
   "metadata": {},
   "outputs": [],
   "source": [
    "eng_lang = pd.concat([t1,t2],axis=0) #concatinating both dataframes because both dataframes columns are similar"
   ]
  },
  {
   "cell_type": "code",
   "execution_count": 114,
   "metadata": {},
   "outputs": [],
   "source": [
    "eng_lang=eng_lang.reset_index(drop=True)  "
   ]
  },
  {
   "cell_type": "code",
   "execution_count": 115,
   "metadata": {},
   "outputs": [],
   "source": [
    "eng_lang['Primary language?'] = eng_lang['Primary language?'].apply(lambda x:x.split()[0]) #splitting and contain 0 index value"
   ]
  },
  {
   "cell_type": "code",
   "execution_count": 116,
   "metadata": {},
   "outputs": [
    {
     "data": {
      "text/html": [
       "<div>\n",
       "<style scoped>\n",
       "    .dataframe tbody tr th:only-of-type {\n",
       "        vertical-align: middle;\n",
       "    }\n",
       "\n",
       "    .dataframe tbody tr th {\n",
       "        vertical-align: top;\n",
       "    }\n",
       "\n",
       "    .dataframe thead th {\n",
       "        text-align: right;\n",
       "    }\n",
       "</style>\n",
       "<table border=\"1\" class=\"dataframe\">\n",
       "  <thead>\n",
       "    <tr style=\"text-align: right;\">\n",
       "      <th></th>\n",
       "      <th>Alpha-3 code</th>\n",
       "      <th>Primary language?</th>\n",
       "    </tr>\n",
       "  </thead>\n",
       "  <tbody>\n",
       "    <tr>\n",
       "      <th>0</th>\n",
       "      <td>AUS</td>\n",
       "      <td>Yes</td>\n",
       "    </tr>\n",
       "    <tr>\n",
       "      <th>1</th>\n",
       "      <td>NZL</td>\n",
       "      <td>Yes</td>\n",
       "    </tr>\n",
       "    <tr>\n",
       "      <th>2</th>\n",
       "      <td>GBR</td>\n",
       "      <td>Yes</td>\n",
       "    </tr>\n",
       "    <tr>\n",
       "      <th>3</th>\n",
       "      <td>USA</td>\n",
       "      <td>Yes</td>\n",
       "    </tr>\n",
       "    <tr>\n",
       "      <th>4</th>\n",
       "      <td>ATG</td>\n",
       "      <td>Yes</td>\n",
       "    </tr>\n",
       "    <tr>\n",
       "      <th>5</th>\n",
       "      <td>BHS</td>\n",
       "      <td>Yes</td>\n",
       "    </tr>\n",
       "    <tr>\n",
       "      <th>6</th>\n",
       "      <td>BRB</td>\n",
       "      <td>Yes</td>\n",
       "    </tr>\n",
       "    <tr>\n",
       "      <th>7</th>\n",
       "      <td>BLZ</td>\n",
       "      <td>Yes</td>\n",
       "    </tr>\n",
       "    <tr>\n",
       "      <th>8</th>\n",
       "      <td>BWA</td>\n",
       "      <td>No</td>\n",
       "    </tr>\n",
       "    <tr>\n",
       "      <th>9</th>\n",
       "      <td>BDI</td>\n",
       "      <td>No</td>\n",
       "    </tr>\n",
       "  </tbody>\n",
       "</table>\n",
       "</div>"
      ],
      "text/plain": [
       "  Alpha-3 code Primary language?\n",
       "0          AUS               Yes\n",
       "1          NZL               Yes\n",
       "2          GBR               Yes\n",
       "3          USA               Yes\n",
       "4          ATG               Yes\n",
       "5          BHS               Yes\n",
       "6          BRB               Yes\n",
       "7          BLZ               Yes\n",
       "8          BWA                No\n",
       "9          BDI                No"
      ]
     },
     "execution_count": 116,
     "metadata": {},
     "output_type": "execute_result"
    }
   ],
   "source": [
    "eng_lang.head(10)"
   ]
  },
  {
   "cell_type": "code",
   "execution_count": 117,
   "metadata": {},
   "outputs": [],
   "source": [
    "eng_lang.rename(columns={'Alpha-3 code':'country_code','Primary language?':'English_Langauge'},inplace=True) "
   ]
  },
  {
   "cell_type": "code",
   "execution_count": 118,
   "metadata": {},
   "outputs": [
    {
     "data": {
      "text/plain": [
       "58"
      ]
     },
     "execution_count": 118,
     "metadata": {},
     "output_type": "execute_result"
    }
   ],
   "source": [
    "len(eng_lang.country_code)"
   ]
  },
  {
   "cell_type": "code",
   "execution_count": 119,
   "metadata": {},
   "outputs": [],
   "source": [
    "master_frame2=pd.merge(eng_lang,venture_avg,how='inner',on='country_code')"
   ]
  },
  {
   "cell_type": "code",
   "execution_count": 120,
   "metadata": {},
   "outputs": [
    {
     "data": {
      "text/html": [
       "<div>\n",
       "<style scoped>\n",
       "    .dataframe tbody tr th:only-of-type {\n",
       "        vertical-align: middle;\n",
       "    }\n",
       "\n",
       "    .dataframe tbody tr th {\n",
       "        vertical-align: top;\n",
       "    }\n",
       "\n",
       "    .dataframe thead th {\n",
       "        text-align: right;\n",
       "    }\n",
       "</style>\n",
       "<table border=\"1\" class=\"dataframe\">\n",
       "  <thead>\n",
       "    <tr style=\"text-align: right;\">\n",
       "      <th></th>\n",
       "      <th>country_code</th>\n",
       "      <th>English_Langauge</th>\n",
       "      <th>permalink</th>\n",
       "      <th>category_list</th>\n",
       "      <th>funding_round_type</th>\n",
       "      <th>raised_amount_usd</th>\n",
       "    </tr>\n",
       "  </thead>\n",
       "  <tbody>\n",
       "    <tr>\n",
       "      <th>0</th>\n",
       "      <td>AUS</td>\n",
       "      <td>Yes</td>\n",
       "      <td>adalta</td>\n",
       "      <td>Biotechnology</td>\n",
       "      <td>venture</td>\n",
       "      <td>3007428.0</td>\n",
       "    </tr>\n",
       "    <tr>\n",
       "      <th>1</th>\n",
       "      <td>AUS</td>\n",
       "      <td>Yes</td>\n",
       "      <td>affiniti</td>\n",
       "      <td>Digital Media</td>\n",
       "      <td>venture</td>\n",
       "      <td>574438.0</td>\n",
       "    </tr>\n",
       "    <tr>\n",
       "      <th>2</th>\n",
       "      <td>AUS</td>\n",
       "      <td>Yes</td>\n",
       "      <td>agworld-pty-ltd</td>\n",
       "      <td>Software</td>\n",
       "      <td>venture</td>\n",
       "      <td>5563540.0</td>\n",
       "    </tr>\n",
       "    <tr>\n",
       "      <th>3</th>\n",
       "      <td>AUS</td>\n",
       "      <td>Yes</td>\n",
       "      <td>agworld-pty-ltd</td>\n",
       "      <td>Software</td>\n",
       "      <td>venture</td>\n",
       "      <td>1415094.0</td>\n",
       "    </tr>\n",
       "    <tr>\n",
       "      <th>4</th>\n",
       "      <td>AUS</td>\n",
       "      <td>Yes</td>\n",
       "      <td>agworld-pty-ltd</td>\n",
       "      <td>Software</td>\n",
       "      <td>venture</td>\n",
       "      <td>4140987.0</td>\n",
       "    </tr>\n",
       "  </tbody>\n",
       "</table>\n",
       "</div>"
      ],
      "text/plain": [
       "  country_code English_Langauge        permalink  category_list  \\\n",
       "0          AUS              Yes           adalta  Biotechnology   \n",
       "1          AUS              Yes         affiniti  Digital Media   \n",
       "2          AUS              Yes  agworld-pty-ltd       Software   \n",
       "3          AUS              Yes  agworld-pty-ltd       Software   \n",
       "4          AUS              Yes  agworld-pty-ltd       Software   \n",
       "\n",
       "  funding_round_type  raised_amount_usd  \n",
       "0            venture          3007428.0  \n",
       "1            venture           574438.0  \n",
       "2            venture          5563540.0  \n",
       "3            venture          1415094.0  \n",
       "4            venture          4140987.0  "
      ]
     },
     "execution_count": 120,
     "metadata": {},
     "output_type": "execute_result"
    }
   ],
   "source": [
    "master_frame2.head()"
   ]
  },
  {
   "cell_type": "code",
   "execution_count": 121,
   "metadata": {},
   "outputs": [
    {
     "data": {
      "text/plain": [
       "(40824, 6)"
      ]
     },
     "execution_count": 121,
     "metadata": {},
     "output_type": "execute_result"
    }
   ],
   "source": [
    "master_frame2.shape"
   ]
  },
  {
   "cell_type": "code",
   "execution_count": 122,
   "metadata": {},
   "outputs": [],
   "source": [
    "master_frame2.drop('English_Langauge',axis=1,inplace=True)"
   ]
  },
  {
   "cell_type": "code",
   "execution_count": 123,
   "metadata": {},
   "outputs": [],
   "source": [
    "master_frame2.to_csv(r\"data/master_frame2.csv\",index=False)"
   ]
  },
  {
   "cell_type": "code",
   "execution_count": 124,
   "metadata": {},
   "outputs": [
    {
     "data": {
      "text/plain": [
       "country_code\n",
       "USA    420068.029342\n",
       "GBR     20072.813004\n",
       "IND     14261.508718\n",
       "CAN      9482.217668\n",
       "SGP      2793.917856\n",
       "IRL      1669.285543\n",
       "AUS      1319.028698\n",
       "NZL       448.316383\n",
       "ZAF       233.713106\n",
       "Name: raised_amount_usd, dtype: float64"
      ]
     },
     "execution_count": 124,
     "metadata": {},
     "output_type": "execute_result"
    }
   ],
   "source": [
    "total_funding=master_frame2.groupby(by='country_code')['raised_amount_usd'].sum().sort_values(ascending=False).head(9)/1000000\n",
    "total_funding"
   ]
  },
  {
   "cell_type": "code",
   "execution_count": 125,
   "metadata": {},
   "outputs": [
    {
     "data": {
      "text/html": [
       "<div>\n",
       "<style scoped>\n",
       "    .dataframe tbody tr th:only-of-type {\n",
       "        vertical-align: middle;\n",
       "    }\n",
       "\n",
       "    .dataframe tbody tr th {\n",
       "        vertical-align: top;\n",
       "    }\n",
       "\n",
       "    .dataframe thead th {\n",
       "        text-align: right;\n",
       "    }\n",
       "</style>\n",
       "<table border=\"1\" class=\"dataframe\">\n",
       "  <thead>\n",
       "    <tr style=\"text-align: right;\">\n",
       "      <th></th>\n",
       "      <th>country_code</th>\n",
       "      <th>permalink</th>\n",
       "      <th>category_list</th>\n",
       "      <th>funding_round_type</th>\n",
       "      <th>raised_amount_usd</th>\n",
       "    </tr>\n",
       "  </thead>\n",
       "  <tbody>\n",
       "    <tr>\n",
       "      <th>253</th>\n",
       "      <td>GBR</td>\n",
       "      <td>10-minutes-with</td>\n",
       "      <td>Education</td>\n",
       "      <td>venture</td>\n",
       "      <td>4000000.0</td>\n",
       "    </tr>\n",
       "    <tr>\n",
       "      <th>254</th>\n",
       "      <td>GBR</td>\n",
       "      <td>31dover</td>\n",
       "      <td>E-Commerce</td>\n",
       "      <td>venture</td>\n",
       "      <td>2274716.0</td>\n",
       "    </tr>\n",
       "    <tr>\n",
       "      <th>255</th>\n",
       "      <td>GBR</td>\n",
       "      <td>365scores</td>\n",
       "      <td>Android</td>\n",
       "      <td>venture</td>\n",
       "      <td>5500000.0</td>\n",
       "    </tr>\n",
       "    <tr>\n",
       "      <th>256</th>\n",
       "      <td>GBR</td>\n",
       "      <td>365scores</td>\n",
       "      <td>Android</td>\n",
       "      <td>venture</td>\n",
       "      <td>1200000.0</td>\n",
       "    </tr>\n",
       "    <tr>\n",
       "      <th>257</th>\n",
       "      <td>GBR</td>\n",
       "      <td>3sun</td>\n",
       "      <td>Clean Technology</td>\n",
       "      <td>venture</td>\n",
       "      <td>15152514.0</td>\n",
       "    </tr>\n",
       "  </tbody>\n",
       "</table>\n",
       "</div>"
      ],
      "text/plain": [
       "    country_code        permalink     category_list funding_round_type  \\\n",
       "253          GBR  10-minutes-with         Education            venture   \n",
       "254          GBR          31dover        E-Commerce            venture   \n",
       "255          GBR        365scores           Android            venture   \n",
       "256          GBR        365scores           Android            venture   \n",
       "257          GBR             3sun  Clean Technology            venture   \n",
       "\n",
       "     raised_amount_usd  \n",
       "253          4000000.0  \n",
       "254          2274716.0  \n",
       "255          5500000.0  \n",
       "256          1200000.0  \n",
       "257         15152514.0  "
      ]
     },
     "execution_count": 125,
     "metadata": {},
     "output_type": "execute_result"
    }
   ],
   "source": [
    "top3=master_frame2[master_frame2['country_code'].isin(['USA','GBR','IND'])]\n",
    "top3.head()"
   ]
  },
  {
   "cell_type": "code",
   "execution_count": 126,
   "metadata": {},
   "outputs": [
    {
     "data": {
      "text/html": [
       "<div>\n",
       "<style scoped>\n",
       "    .dataframe tbody tr th:only-of-type {\n",
       "        vertical-align: middle;\n",
       "    }\n",
       "\n",
       "    .dataframe tbody tr th {\n",
       "        vertical-align: top;\n",
       "    }\n",
       "\n",
       "    .dataframe thead th {\n",
       "        text-align: right;\n",
       "    }\n",
       "</style>\n",
       "<table border=\"1\" class=\"dataframe\">\n",
       "  <thead>\n",
       "    <tr style=\"text-align: right;\">\n",
       "      <th></th>\n",
       "      <th>raised_amount_usd</th>\n",
       "    </tr>\n",
       "    <tr>\n",
       "      <th>country_code</th>\n",
       "      <th></th>\n",
       "    </tr>\n",
       "  </thead>\n",
       "  <tbody>\n",
       "    <tr>\n",
       "      <th>USA</th>\n",
       "      <td>420068.029342</td>\n",
       "    </tr>\n",
       "    <tr>\n",
       "      <th>GBR</th>\n",
       "      <td>20072.813004</td>\n",
       "    </tr>\n",
       "    <tr>\n",
       "      <th>IND</th>\n",
       "      <td>14261.508718</td>\n",
       "    </tr>\n",
       "    <tr>\n",
       "      <th>CAN</th>\n",
       "      <td>9482.217668</td>\n",
       "    </tr>\n",
       "    <tr>\n",
       "      <th>SGP</th>\n",
       "      <td>2793.917856</td>\n",
       "    </tr>\n",
       "    <tr>\n",
       "      <th>IRL</th>\n",
       "      <td>1669.285543</td>\n",
       "    </tr>\n",
       "    <tr>\n",
       "      <th>AUS</th>\n",
       "      <td>1319.028698</td>\n",
       "    </tr>\n",
       "    <tr>\n",
       "      <th>NZL</th>\n",
       "      <td>448.316383</td>\n",
       "    </tr>\n",
       "    <tr>\n",
       "      <th>ZAF</th>\n",
       "      <td>233.713106</td>\n",
       "    </tr>\n",
       "  </tbody>\n",
       "</table>\n",
       "</div>"
      ],
      "text/plain": [
       "              raised_amount_usd\n",
       "country_code                   \n",
       "USA               420068.029342\n",
       "GBR                20072.813004\n",
       "IND                14261.508718\n",
       "CAN                 9482.217668\n",
       "SGP                 2793.917856\n",
       "IRL                 1669.285543\n",
       "AUS                 1319.028698\n",
       "NZL                  448.316383\n",
       "ZAF                  233.713106"
      ]
     },
     "execution_count": 126,
     "metadata": {},
     "output_type": "execute_result"
    }
   ],
   "source": [
    "top9=pd.DataFrame(data=total_funding)\n",
    "top9"
   ]
  },
  {
   "cell_type": "code",
   "execution_count": 127,
   "metadata": {},
   "outputs": [
    {
     "data": {
      "text/html": [
       "<div>\n",
       "<style scoped>\n",
       "    .dataframe tbody tr th:only-of-type {\n",
       "        vertical-align: middle;\n",
       "    }\n",
       "\n",
       "    .dataframe tbody tr th {\n",
       "        vertical-align: top;\n",
       "    }\n",
       "\n",
       "    .dataframe thead th {\n",
       "        text-align: right;\n",
       "    }\n",
       "</style>\n",
       "<table border=\"1\" class=\"dataframe\">\n",
       "  <thead>\n",
       "    <tr style=\"text-align: right;\">\n",
       "      <th></th>\n",
       "      <th>raised_amount_usd</th>\n",
       "    </tr>\n",
       "    <tr>\n",
       "      <th>country_code</th>\n",
       "      <th></th>\n",
       "    </tr>\n",
       "  </thead>\n",
       "  <tbody>\n",
       "    <tr>\n",
       "      <th>USA</th>\n",
       "      <td>420068.029342</td>\n",
       "    </tr>\n",
       "    <tr>\n",
       "      <th>GBR</th>\n",
       "      <td>20072.813004</td>\n",
       "    </tr>\n",
       "    <tr>\n",
       "      <th>IND</th>\n",
       "      <td>14261.508718</td>\n",
       "    </tr>\n",
       "  </tbody>\n",
       "</table>\n",
       "</div>"
      ],
      "text/plain": [
       "              raised_amount_usd\n",
       "country_code                   \n",
       "USA               420068.029342\n",
       "GBR                20072.813004\n",
       "IND                14261.508718"
      ]
     },
     "execution_count": 127,
     "metadata": {},
     "output_type": "execute_result"
    }
   ],
   "source": [
    "top9.head(3)"
   ]
  },
  {
   "cell_type": "markdown",
   "metadata": {},
   "source": [
    "## sector analysis"
   ]
  },
  {
   "cell_type": "code",
   "execution_count": 128,
   "metadata": {},
   "outputs": [],
   "source": [
    "mapping=pd.read_csv(\"data/mapping.csv\")"
   ]
  },
  {
   "cell_type": "code",
   "execution_count": 129,
   "metadata": {},
   "outputs": [
    {
     "data": {
      "text/html": [
       "<div>\n",
       "<style scoped>\n",
       "    .dataframe tbody tr th:only-of-type {\n",
       "        vertical-align: middle;\n",
       "    }\n",
       "\n",
       "    .dataframe tbody tr th {\n",
       "        vertical-align: top;\n",
       "    }\n",
       "\n",
       "    .dataframe thead th {\n",
       "        text-align: right;\n",
       "    }\n",
       "</style>\n",
       "<table border=\"1\" class=\"dataframe\">\n",
       "  <thead>\n",
       "    <tr style=\"text-align: right;\">\n",
       "      <th></th>\n",
       "      <th>category_list</th>\n",
       "      <th>Automotive &amp; Sports</th>\n",
       "      <th>Blanks</th>\n",
       "      <th>Cleantech / Semiconductors</th>\n",
       "      <th>Entertainment</th>\n",
       "      <th>Health</th>\n",
       "      <th>Manufacturing</th>\n",
       "      <th>News, Search and Messaging</th>\n",
       "      <th>Others</th>\n",
       "      <th>Social, Finance, Analytics, Advertising</th>\n",
       "    </tr>\n",
       "  </thead>\n",
       "  <tbody>\n",
       "    <tr>\n",
       "      <th>0</th>\n",
       "      <td>NaN</td>\n",
       "      <td>0</td>\n",
       "      <td>1</td>\n",
       "      <td>0</td>\n",
       "      <td>0</td>\n",
       "      <td>0</td>\n",
       "      <td>0</td>\n",
       "      <td>0</td>\n",
       "      <td>0</td>\n",
       "      <td>0</td>\n",
       "    </tr>\n",
       "    <tr>\n",
       "      <th>1</th>\n",
       "      <td>3D</td>\n",
       "      <td>0</td>\n",
       "      <td>0</td>\n",
       "      <td>0</td>\n",
       "      <td>0</td>\n",
       "      <td>0</td>\n",
       "      <td>1</td>\n",
       "      <td>0</td>\n",
       "      <td>0</td>\n",
       "      <td>0</td>\n",
       "    </tr>\n",
       "    <tr>\n",
       "      <th>2</th>\n",
       "      <td>3D Printing</td>\n",
       "      <td>0</td>\n",
       "      <td>0</td>\n",
       "      <td>0</td>\n",
       "      <td>0</td>\n",
       "      <td>0</td>\n",
       "      <td>1</td>\n",
       "      <td>0</td>\n",
       "      <td>0</td>\n",
       "      <td>0</td>\n",
       "    </tr>\n",
       "    <tr>\n",
       "      <th>3</th>\n",
       "      <td>3D Technology</td>\n",
       "      <td>0</td>\n",
       "      <td>0</td>\n",
       "      <td>0</td>\n",
       "      <td>0</td>\n",
       "      <td>0</td>\n",
       "      <td>1</td>\n",
       "      <td>0</td>\n",
       "      <td>0</td>\n",
       "      <td>0</td>\n",
       "    </tr>\n",
       "    <tr>\n",
       "      <th>4</th>\n",
       "      <td>Accounting</td>\n",
       "      <td>0</td>\n",
       "      <td>0</td>\n",
       "      <td>0</td>\n",
       "      <td>0</td>\n",
       "      <td>0</td>\n",
       "      <td>0</td>\n",
       "      <td>0</td>\n",
       "      <td>0</td>\n",
       "      <td>1</td>\n",
       "    </tr>\n",
       "  </tbody>\n",
       "</table>\n",
       "</div>"
      ],
      "text/plain": [
       "   category_list  Automotive & Sports  Blanks  Cleantech / Semiconductors  \\\n",
       "0            NaN                    0       1                           0   \n",
       "1             3D                    0       0                           0   \n",
       "2    3D Printing                    0       0                           0   \n",
       "3  3D Technology                    0       0                           0   \n",
       "4     Accounting                    0       0                           0   \n",
       "\n",
       "   Entertainment  Health  Manufacturing  News, Search and Messaging  Others  \\\n",
       "0              0       0              0                           0       0   \n",
       "1              0       0              1                           0       0   \n",
       "2              0       0              1                           0       0   \n",
       "3              0       0              1                           0       0   \n",
       "4              0       0              0                           0       0   \n",
       "\n",
       "   Social, Finance, Analytics, Advertising  \n",
       "0                                        0  \n",
       "1                                        0  \n",
       "2                                        0  \n",
       "3                                        0  \n",
       "4                                        1  "
      ]
     },
     "execution_count": 129,
     "metadata": {},
     "output_type": "execute_result"
    }
   ],
   "source": [
    "mapping.head()"
   ]
  },
  {
   "cell_type": "code",
   "execution_count": 130,
   "metadata": {},
   "outputs": [],
   "source": [
    "# create a function to checking all the nan values entire datasets\n",
    "\n",
    "def nan_perc(master_frame):\n",
    "    return round((100*master_frame.isnull().sum())/len(master_frame),2)"
   ]
  },
  {
   "cell_type": "code",
   "execution_count": 131,
   "metadata": {},
   "outputs": [
    {
     "data": {
      "text/plain": [
       "category_list                              0.15\n",
       "Automotive & Sports                        0.00\n",
       "Blanks                                     0.00\n",
       "Cleantech / Semiconductors                 0.00\n",
       "Entertainment                              0.00\n",
       "Health                                     0.00\n",
       "Manufacturing                              0.00\n",
       "News, Search and Messaging                 0.00\n",
       "Others                                     0.00\n",
       "Social, Finance, Analytics, Advertising    0.00\n",
       "dtype: float64"
      ]
     },
     "execution_count": 131,
     "metadata": {},
     "output_type": "execute_result"
    }
   ],
   "source": [
    "nan_perc(mapping)"
   ]
  },
  {
   "cell_type": "code",
   "execution_count": 132,
   "metadata": {},
   "outputs": [],
   "source": [
    "mapping.dropna(subset=['category_list'],inplace=True)"
   ]
  },
  {
   "cell_type": "code",
   "execution_count": 133,
   "metadata": {},
   "outputs": [
    {
     "data": {
      "text/plain": [
       "category_list                              0.0\n",
       "Automotive & Sports                        0.0\n",
       "Blanks                                     0.0\n",
       "Cleantech / Semiconductors                 0.0\n",
       "Entertainment                              0.0\n",
       "Health                                     0.0\n",
       "Manufacturing                              0.0\n",
       "News, Search and Messaging                 0.0\n",
       "Others                                     0.0\n",
       "Social, Finance, Analytics, Advertising    0.0\n",
       "dtype: float64"
      ]
     },
     "execution_count": 133,
     "metadata": {},
     "output_type": "execute_result"
    }
   ],
   "source": [
    "nan_perc(mapping)"
   ]
  },
  {
   "cell_type": "code",
   "execution_count": 134,
   "metadata": {},
   "outputs": [
    {
     "data": {
      "text/plain": [
       "687"
      ]
     },
     "execution_count": 134,
     "metadata": {},
     "output_type": "execute_result"
    }
   ],
   "source": [
    "mapping.category_list.nunique()"
   ]
  },
  {
   "cell_type": "code",
   "execution_count": 135,
   "metadata": {},
   "outputs": [],
   "source": [
    "mapping[\"category_list\"]=mapping[\"category_list\"].apply(lambda x:x.split(\"|\")[0])"
   ]
  },
  {
   "cell_type": "code",
   "execution_count": 136,
   "metadata": {},
   "outputs": [],
   "source": [
    "mapping[\"category_list\"]=mapping[\"category_list\"].apply(lambda x:x.replace(\"0\",\"na\"))"
   ]
  },
  {
   "cell_type": "code",
   "execution_count": 137,
   "metadata": {},
   "outputs": [
    {
     "data": {
      "text/html": [
       "<div>\n",
       "<style scoped>\n",
       "    .dataframe tbody tr th:only-of-type {\n",
       "        vertical-align: middle;\n",
       "    }\n",
       "\n",
       "    .dataframe tbody tr th {\n",
       "        vertical-align: top;\n",
       "    }\n",
       "\n",
       "    .dataframe thead th {\n",
       "        text-align: right;\n",
       "    }\n",
       "</style>\n",
       "<table border=\"1\" class=\"dataframe\">\n",
       "  <thead>\n",
       "    <tr style=\"text-align: right;\">\n",
       "      <th></th>\n",
       "      <th>category_list</th>\n",
       "      <th>Automotive &amp; Sports</th>\n",
       "      <th>Blanks</th>\n",
       "      <th>Cleantech / Semiconductors</th>\n",
       "      <th>Entertainment</th>\n",
       "      <th>Health</th>\n",
       "      <th>Manufacturing</th>\n",
       "      <th>News, Search and Messaging</th>\n",
       "      <th>Others</th>\n",
       "      <th>Social, Finance, Analytics, Advertising</th>\n",
       "    </tr>\n",
       "  </thead>\n",
       "  <tbody>\n",
       "    <tr>\n",
       "      <th>1</th>\n",
       "      <td>3D</td>\n",
       "      <td>0</td>\n",
       "      <td>0</td>\n",
       "      <td>0</td>\n",
       "      <td>0</td>\n",
       "      <td>0</td>\n",
       "      <td>1</td>\n",
       "      <td>0</td>\n",
       "      <td>0</td>\n",
       "      <td>0</td>\n",
       "    </tr>\n",
       "    <tr>\n",
       "      <th>2</th>\n",
       "      <td>3D Printing</td>\n",
       "      <td>0</td>\n",
       "      <td>0</td>\n",
       "      <td>0</td>\n",
       "      <td>0</td>\n",
       "      <td>0</td>\n",
       "      <td>1</td>\n",
       "      <td>0</td>\n",
       "      <td>0</td>\n",
       "      <td>0</td>\n",
       "    </tr>\n",
       "    <tr>\n",
       "      <th>3</th>\n",
       "      <td>3D Technology</td>\n",
       "      <td>0</td>\n",
       "      <td>0</td>\n",
       "      <td>0</td>\n",
       "      <td>0</td>\n",
       "      <td>0</td>\n",
       "      <td>1</td>\n",
       "      <td>0</td>\n",
       "      <td>0</td>\n",
       "      <td>0</td>\n",
       "    </tr>\n",
       "    <tr>\n",
       "      <th>4</th>\n",
       "      <td>Accounting</td>\n",
       "      <td>0</td>\n",
       "      <td>0</td>\n",
       "      <td>0</td>\n",
       "      <td>0</td>\n",
       "      <td>0</td>\n",
       "      <td>0</td>\n",
       "      <td>0</td>\n",
       "      <td>0</td>\n",
       "      <td>1</td>\n",
       "    </tr>\n",
       "    <tr>\n",
       "      <th>5</th>\n",
       "      <td>Active Lifestyle</td>\n",
       "      <td>0</td>\n",
       "      <td>0</td>\n",
       "      <td>0</td>\n",
       "      <td>0</td>\n",
       "      <td>1</td>\n",
       "      <td>0</td>\n",
       "      <td>0</td>\n",
       "      <td>0</td>\n",
       "      <td>0</td>\n",
       "    </tr>\n",
       "  </tbody>\n",
       "</table>\n",
       "</div>"
      ],
      "text/plain": [
       "      category_list  Automotive & Sports  Blanks  Cleantech / Semiconductors  \\\n",
       "1                3D                    0       0                           0   \n",
       "2       3D Printing                    0       0                           0   \n",
       "3     3D Technology                    0       0                           0   \n",
       "4        Accounting                    0       0                           0   \n",
       "5  Active Lifestyle                    0       0                           0   \n",
       "\n",
       "   Entertainment  Health  Manufacturing  News, Search and Messaging  Others  \\\n",
       "1              0       0              1                           0       0   \n",
       "2              0       0              1                           0       0   \n",
       "3              0       0              1                           0       0   \n",
       "4              0       0              0                           0       0   \n",
       "5              0       1              0                           0       0   \n",
       "\n",
       "   Social, Finance, Analytics, Advertising  \n",
       "1                                        0  \n",
       "2                                        0  \n",
       "3                                        0  \n",
       "4                                        1  \n",
       "5                                        0  "
      ]
     },
     "execution_count": 137,
     "metadata": {},
     "output_type": "execute_result"
    }
   ],
   "source": [
    "mapping.head()"
   ]
  },
  {
   "cell_type": "code",
   "execution_count": 138,
   "metadata": {},
   "outputs": [],
   "source": [
    "mapping=pd.melt(mapping,id_vars=['category_list'],var_name=['main_sector'])"
   ]
  },
  {
   "cell_type": "code",
   "execution_count": 139,
   "metadata": {},
   "outputs": [
    {
     "data": {
      "text/html": [
       "<div>\n",
       "<style scoped>\n",
       "    .dataframe tbody tr th:only-of-type {\n",
       "        vertical-align: middle;\n",
       "    }\n",
       "\n",
       "    .dataframe tbody tr th {\n",
       "        vertical-align: top;\n",
       "    }\n",
       "\n",
       "    .dataframe thead th {\n",
       "        text-align: right;\n",
       "    }\n",
       "</style>\n",
       "<table border=\"1\" class=\"dataframe\">\n",
       "  <thead>\n",
       "    <tr style=\"text-align: right;\">\n",
       "      <th></th>\n",
       "      <th>category_list</th>\n",
       "      <th>main_sector</th>\n",
       "      <th>value</th>\n",
       "    </tr>\n",
       "  </thead>\n",
       "  <tbody>\n",
       "    <tr>\n",
       "      <th>0</th>\n",
       "      <td>3D</td>\n",
       "      <td>Automotive &amp; Sports</td>\n",
       "      <td>0</td>\n",
       "    </tr>\n",
       "    <tr>\n",
       "      <th>1</th>\n",
       "      <td>3D Printing</td>\n",
       "      <td>Automotive &amp; Sports</td>\n",
       "      <td>0</td>\n",
       "    </tr>\n",
       "    <tr>\n",
       "      <th>2</th>\n",
       "      <td>3D Technology</td>\n",
       "      <td>Automotive &amp; Sports</td>\n",
       "      <td>0</td>\n",
       "    </tr>\n",
       "    <tr>\n",
       "      <th>3</th>\n",
       "      <td>Accounting</td>\n",
       "      <td>Automotive &amp; Sports</td>\n",
       "      <td>0</td>\n",
       "    </tr>\n",
       "    <tr>\n",
       "      <th>4</th>\n",
       "      <td>Active Lifestyle</td>\n",
       "      <td>Automotive &amp; Sports</td>\n",
       "      <td>0</td>\n",
       "    </tr>\n",
       "    <tr>\n",
       "      <th>5</th>\n",
       "      <td>Ad Targeting</td>\n",
       "      <td>Automotive &amp; Sports</td>\n",
       "      <td>0</td>\n",
       "    </tr>\n",
       "    <tr>\n",
       "      <th>6</th>\n",
       "      <td>Advanced Materials</td>\n",
       "      <td>Automotive &amp; Sports</td>\n",
       "      <td>0</td>\n",
       "    </tr>\n",
       "    <tr>\n",
       "      <th>7</th>\n",
       "      <td>Adventure Travel</td>\n",
       "      <td>Automotive &amp; Sports</td>\n",
       "      <td>1</td>\n",
       "    </tr>\n",
       "    <tr>\n",
       "      <th>8</th>\n",
       "      <td>Advertising</td>\n",
       "      <td>Automotive &amp; Sports</td>\n",
       "      <td>0</td>\n",
       "    </tr>\n",
       "    <tr>\n",
       "      <th>9</th>\n",
       "      <td>Advertising Exchanges</td>\n",
       "      <td>Automotive &amp; Sports</td>\n",
       "      <td>0</td>\n",
       "    </tr>\n",
       "    <tr>\n",
       "      <th>10</th>\n",
       "      <td>Advertising Networks</td>\n",
       "      <td>Automotive &amp; Sports</td>\n",
       "      <td>0</td>\n",
       "    </tr>\n",
       "    <tr>\n",
       "      <th>11</th>\n",
       "      <td>Advertising Platforms</td>\n",
       "      <td>Automotive &amp; Sports</td>\n",
       "      <td>0</td>\n",
       "    </tr>\n",
       "    <tr>\n",
       "      <th>12</th>\n",
       "      <td>Advice</td>\n",
       "      <td>Automotive &amp; Sports</td>\n",
       "      <td>0</td>\n",
       "    </tr>\n",
       "    <tr>\n",
       "      <th>13</th>\n",
       "      <td>Aerospace</td>\n",
       "      <td>Automotive &amp; Sports</td>\n",
       "      <td>1</td>\n",
       "    </tr>\n",
       "    <tr>\n",
       "      <th>14</th>\n",
       "      <td>Agriculture</td>\n",
       "      <td>Automotive &amp; Sports</td>\n",
       "      <td>0</td>\n",
       "    </tr>\n",
       "    <tr>\n",
       "      <th>15</th>\n",
       "      <td>Air Pollution Control</td>\n",
       "      <td>Automotive &amp; Sports</td>\n",
       "      <td>0</td>\n",
       "    </tr>\n",
       "    <tr>\n",
       "      <th>16</th>\n",
       "      <td>Algorithms</td>\n",
       "      <td>Automotive &amp; Sports</td>\n",
       "      <td>0</td>\n",
       "    </tr>\n",
       "    <tr>\n",
       "      <th>17</th>\n",
       "      <td>All Markets</td>\n",
       "      <td>Automotive &amp; Sports</td>\n",
       "      <td>0</td>\n",
       "    </tr>\n",
       "  </tbody>\n",
       "</table>\n",
       "</div>"
      ],
      "text/plain": [
       "            category_list          main_sector  value\n",
       "0                      3D  Automotive & Sports      0\n",
       "1             3D Printing  Automotive & Sports      0\n",
       "2           3D Technology  Automotive & Sports      0\n",
       "3              Accounting  Automotive & Sports      0\n",
       "4        Active Lifestyle  Automotive & Sports      0\n",
       "5            Ad Targeting  Automotive & Sports      0\n",
       "6      Advanced Materials  Automotive & Sports      0\n",
       "7        Adventure Travel  Automotive & Sports      1\n",
       "8             Advertising  Automotive & Sports      0\n",
       "9   Advertising Exchanges  Automotive & Sports      0\n",
       "10   Advertising Networks  Automotive & Sports      0\n",
       "11  Advertising Platforms  Automotive & Sports      0\n",
       "12                 Advice  Automotive & Sports      0\n",
       "13              Aerospace  Automotive & Sports      1\n",
       "14            Agriculture  Automotive & Sports      0\n",
       "15  Air Pollution Control  Automotive & Sports      0\n",
       "16             Algorithms  Automotive & Sports      0\n",
       "17            All Markets  Automotive & Sports      0"
      ]
     },
     "execution_count": 139,
     "metadata": {},
     "output_type": "execute_result"
    }
   ],
   "source": [
    "mapping.head(18)"
   ]
  },
  {
   "cell_type": "code",
   "execution_count": 140,
   "metadata": {},
   "outputs": [
    {
     "data": {
      "text/plain": [
       "(6183, 3)"
      ]
     },
     "execution_count": 140,
     "metadata": {},
     "output_type": "execute_result"
    }
   ],
   "source": [
    "mapping.shape"
   ]
  },
  {
   "cell_type": "code",
   "execution_count": 141,
   "metadata": {},
   "outputs": [],
   "source": [
    "mapping=mapping[mapping.value!=0]"
   ]
  },
  {
   "cell_type": "code",
   "execution_count": 142,
   "metadata": {},
   "outputs": [
    {
     "data": {
      "text/html": [
       "<div>\n",
       "<style scoped>\n",
       "    .dataframe tbody tr th:only-of-type {\n",
       "        vertical-align: middle;\n",
       "    }\n",
       "\n",
       "    .dataframe tbody tr th {\n",
       "        vertical-align: top;\n",
       "    }\n",
       "\n",
       "    .dataframe thead th {\n",
       "        text-align: right;\n",
       "    }\n",
       "</style>\n",
       "<table border=\"1\" class=\"dataframe\">\n",
       "  <thead>\n",
       "    <tr style=\"text-align: right;\">\n",
       "      <th></th>\n",
       "      <th>category_list</th>\n",
       "      <th>main_sector</th>\n",
       "      <th>value</th>\n",
       "    </tr>\n",
       "  </thead>\n",
       "  <tbody>\n",
       "    <tr>\n",
       "      <th>7</th>\n",
       "      <td>Adventure Travel</td>\n",
       "      <td>Automotive &amp; Sports</td>\n",
       "      <td>1</td>\n",
       "    </tr>\n",
       "    <tr>\n",
       "      <th>13</th>\n",
       "      <td>Aerospace</td>\n",
       "      <td>Automotive &amp; Sports</td>\n",
       "      <td>1</td>\n",
       "    </tr>\n",
       "    <tr>\n",
       "      <th>44</th>\n",
       "      <td>Auto</td>\n",
       "      <td>Automotive &amp; Sports</td>\n",
       "      <td>1</td>\n",
       "    </tr>\n",
       "    <tr>\n",
       "      <th>45</th>\n",
       "      <td>Automated Kiosk</td>\n",
       "      <td>Automotive &amp; Sports</td>\n",
       "      <td>1</td>\n",
       "    </tr>\n",
       "    <tr>\n",
       "      <th>46</th>\n",
       "      <td>Automotive</td>\n",
       "      <td>Automotive &amp; Sports</td>\n",
       "      <td>1</td>\n",
       "    </tr>\n",
       "  </tbody>\n",
       "</table>\n",
       "</div>"
      ],
      "text/plain": [
       "       category_list          main_sector  value\n",
       "7   Adventure Travel  Automotive & Sports      1\n",
       "13         Aerospace  Automotive & Sports      1\n",
       "44              Auto  Automotive & Sports      1\n",
       "45   Automated Kiosk  Automotive & Sports      1\n",
       "46        Automotive  Automotive & Sports      1"
      ]
     },
     "execution_count": 142,
     "metadata": {},
     "output_type": "execute_result"
    }
   ],
   "source": [
    "mapping.head()"
   ]
  },
  {
   "cell_type": "code",
   "execution_count": 143,
   "metadata": {},
   "outputs": [],
   "source": [
    "mapping.reset_index(drop=True,inplace=True)"
   ]
  },
  {
   "cell_type": "code",
   "execution_count": 144,
   "metadata": {},
   "outputs": [
    {
     "data": {
      "text/html": [
       "<div>\n",
       "<style scoped>\n",
       "    .dataframe tbody tr th:only-of-type {\n",
       "        vertical-align: middle;\n",
       "    }\n",
       "\n",
       "    .dataframe tbody tr th {\n",
       "        vertical-align: top;\n",
       "    }\n",
       "\n",
       "    .dataframe thead th {\n",
       "        text-align: right;\n",
       "    }\n",
       "</style>\n",
       "<table border=\"1\" class=\"dataframe\">\n",
       "  <thead>\n",
       "    <tr style=\"text-align: right;\">\n",
       "      <th></th>\n",
       "      <th>category_list</th>\n",
       "      <th>main_sector</th>\n",
       "      <th>value</th>\n",
       "    </tr>\n",
       "  </thead>\n",
       "  <tbody>\n",
       "    <tr>\n",
       "      <th>0</th>\n",
       "      <td>Adventure Travel</td>\n",
       "      <td>Automotive &amp; Sports</td>\n",
       "      <td>1</td>\n",
       "    </tr>\n",
       "    <tr>\n",
       "      <th>1</th>\n",
       "      <td>Aerospace</td>\n",
       "      <td>Automotive &amp; Sports</td>\n",
       "      <td>1</td>\n",
       "    </tr>\n",
       "    <tr>\n",
       "      <th>2</th>\n",
       "      <td>Auto</td>\n",
       "      <td>Automotive &amp; Sports</td>\n",
       "      <td>1</td>\n",
       "    </tr>\n",
       "    <tr>\n",
       "      <th>3</th>\n",
       "      <td>Automated Kiosk</td>\n",
       "      <td>Automotive &amp; Sports</td>\n",
       "      <td>1</td>\n",
       "    </tr>\n",
       "    <tr>\n",
       "      <th>4</th>\n",
       "      <td>Automotive</td>\n",
       "      <td>Automotive &amp; Sports</td>\n",
       "      <td>1</td>\n",
       "    </tr>\n",
       "  </tbody>\n",
       "</table>\n",
       "</div>"
      ],
      "text/plain": [
       "      category_list          main_sector  value\n",
       "0  Adventure Travel  Automotive & Sports      1\n",
       "1         Aerospace  Automotive & Sports      1\n",
       "2              Auto  Automotive & Sports      1\n",
       "3   Automated Kiosk  Automotive & Sports      1\n",
       "4        Automotive  Automotive & Sports      1"
      ]
     },
     "execution_count": 144,
     "metadata": {},
     "output_type": "execute_result"
    }
   ],
   "source": [
    "mapping.head()"
   ]
  },
  {
   "cell_type": "code",
   "execution_count": 145,
   "metadata": {},
   "outputs": [],
   "source": [
    "mapping.drop('value',axis=1,inplace=True) #drop value in the mappling df"
   ]
  },
  {
   "cell_type": "markdown",
   "metadata": {},
   "source": [
    "## checkpoint-5"
   ]
  },
  {
   "cell_type": "code",
   "execution_count": 146,
   "metadata": {},
   "outputs": [
    {
     "data": {
      "text/html": [
       "<div>\n",
       "<style scoped>\n",
       "    .dataframe tbody tr th:only-of-type {\n",
       "        vertical-align: middle;\n",
       "    }\n",
       "\n",
       "    .dataframe tbody tr th {\n",
       "        vertical-align: top;\n",
       "    }\n",
       "\n",
       "    .dataframe thead th {\n",
       "        text-align: right;\n",
       "    }\n",
       "</style>\n",
       "<table border=\"1\" class=\"dataframe\">\n",
       "  <thead>\n",
       "    <tr style=\"text-align: right;\">\n",
       "      <th></th>\n",
       "      <th>country_code</th>\n",
       "      <th>permalink</th>\n",
       "      <th>category_list</th>\n",
       "      <th>funding_round_type</th>\n",
       "      <th>raised_amount_usd</th>\n",
       "    </tr>\n",
       "  </thead>\n",
       "  <tbody>\n",
       "    <tr>\n",
       "      <th>253</th>\n",
       "      <td>GBR</td>\n",
       "      <td>10-minutes-with</td>\n",
       "      <td>Education</td>\n",
       "      <td>venture</td>\n",
       "      <td>4000000.0</td>\n",
       "    </tr>\n",
       "    <tr>\n",
       "      <th>254</th>\n",
       "      <td>GBR</td>\n",
       "      <td>31dover</td>\n",
       "      <td>E-Commerce</td>\n",
       "      <td>venture</td>\n",
       "      <td>2274716.0</td>\n",
       "    </tr>\n",
       "    <tr>\n",
       "      <th>255</th>\n",
       "      <td>GBR</td>\n",
       "      <td>365scores</td>\n",
       "      <td>Android</td>\n",
       "      <td>venture</td>\n",
       "      <td>5500000.0</td>\n",
       "    </tr>\n",
       "    <tr>\n",
       "      <th>256</th>\n",
       "      <td>GBR</td>\n",
       "      <td>365scores</td>\n",
       "      <td>Android</td>\n",
       "      <td>venture</td>\n",
       "      <td>1200000.0</td>\n",
       "    </tr>\n",
       "    <tr>\n",
       "      <th>257</th>\n",
       "      <td>GBR</td>\n",
       "      <td>3sun</td>\n",
       "      <td>Clean Technology</td>\n",
       "      <td>venture</td>\n",
       "      <td>15152514.0</td>\n",
       "    </tr>\n",
       "  </tbody>\n",
       "</table>\n",
       "</div>"
      ],
      "text/plain": [
       "    country_code        permalink     category_list funding_round_type  \\\n",
       "253          GBR  10-minutes-with         Education            venture   \n",
       "254          GBR          31dover        E-Commerce            venture   \n",
       "255          GBR        365scores           Android            venture   \n",
       "256          GBR        365scores           Android            venture   \n",
       "257          GBR             3sun  Clean Technology            venture   \n",
       "\n",
       "     raised_amount_usd  \n",
       "253          4000000.0  \n",
       "254          2274716.0  \n",
       "255          5500000.0  \n",
       "256          1200000.0  \n",
       "257         15152514.0  "
      ]
     },
     "execution_count": 146,
     "metadata": {},
     "output_type": "execute_result"
    }
   ],
   "source": [
    "top3.head()"
   ]
  },
  {
   "cell_type": "code",
   "execution_count": 147,
   "metadata": {},
   "outputs": [],
   "source": [
    "master_frame3=pd.merge(top3,mapping,how='inner',on='category_list')"
   ]
  },
  {
   "cell_type": "code",
   "execution_count": 148,
   "metadata": {},
   "outputs": [
    {
     "data": {
      "text/plain": [
       "array(['GBR', 'USA', 'IND'], dtype=object)"
      ]
     },
     "execution_count": 148,
     "metadata": {},
     "output_type": "execute_result"
    }
   ],
   "source": [
    "master_frame3.country_code.unique()"
   ]
  },
  {
   "cell_type": "code",
   "execution_count": 149,
   "metadata": {},
   "outputs": [
    {
     "data": {
      "text/plain": [
       "country_code          0.0\n",
       "permalink             0.0\n",
       "category_list         0.0\n",
       "funding_round_type    0.0\n",
       "raised_amount_usd     0.0\n",
       "main_sector           0.0\n",
       "dtype: float64"
      ]
     },
     "execution_count": 149,
     "metadata": {},
     "output_type": "execute_result"
    }
   ],
   "source": [
    "nan_perc(master_frame3)"
   ]
  },
  {
   "cell_type": "code",
   "execution_count": 150,
   "metadata": {},
   "outputs": [
    {
     "data": {
      "text/html": [
       "<div>\n",
       "<style scoped>\n",
       "    .dataframe tbody tr th:only-of-type {\n",
       "        vertical-align: middle;\n",
       "    }\n",
       "\n",
       "    .dataframe tbody tr th {\n",
       "        vertical-align: top;\n",
       "    }\n",
       "\n",
       "    .dataframe thead th {\n",
       "        text-align: right;\n",
       "    }\n",
       "</style>\n",
       "<table border=\"1\" class=\"dataframe\">\n",
       "  <thead>\n",
       "    <tr style=\"text-align: right;\">\n",
       "      <th></th>\n",
       "      <th>country_code</th>\n",
       "      <th>permalink</th>\n",
       "      <th>category_list</th>\n",
       "      <th>funding_round_type</th>\n",
       "      <th>raised_amount_usd</th>\n",
       "      <th>main_sector</th>\n",
       "    </tr>\n",
       "  </thead>\n",
       "  <tbody>\n",
       "    <tr>\n",
       "      <th>0</th>\n",
       "      <td>GBR</td>\n",
       "      <td>10-minutes-with</td>\n",
       "      <td>Education</td>\n",
       "      <td>venture</td>\n",
       "      <td>4000000.0</td>\n",
       "      <td>Others</td>\n",
       "    </tr>\n",
       "    <tr>\n",
       "      <th>1</th>\n",
       "      <td>GBR</td>\n",
       "      <td>brainbow</td>\n",
       "      <td>Education</td>\n",
       "      <td>venture</td>\n",
       "      <td>7000000.0</td>\n",
       "      <td>Others</td>\n",
       "    </tr>\n",
       "    <tr>\n",
       "      <th>2</th>\n",
       "      <td>GBR</td>\n",
       "      <td>digital-assess</td>\n",
       "      <td>Education</td>\n",
       "      <td>venture</td>\n",
       "      <td>3000000.0</td>\n",
       "      <td>Others</td>\n",
       "    </tr>\n",
       "    <tr>\n",
       "      <th>3</th>\n",
       "      <td>GBR</td>\n",
       "      <td>fuse-universal</td>\n",
       "      <td>Education</td>\n",
       "      <td>venture</td>\n",
       "      <td>10000000.0</td>\n",
       "      <td>Others</td>\n",
       "    </tr>\n",
       "    <tr>\n",
       "      <th>4</th>\n",
       "      <td>GBR</td>\n",
       "      <td>guroo</td>\n",
       "      <td>Education</td>\n",
       "      <td>venture</td>\n",
       "      <td>759353.0</td>\n",
       "      <td>Others</td>\n",
       "    </tr>\n",
       "    <tr>\n",
       "      <th>...</th>\n",
       "      <td>...</td>\n",
       "      <td>...</td>\n",
       "      <td>...</td>\n",
       "      <td>...</td>\n",
       "      <td>...</td>\n",
       "      <td>...</td>\n",
       "    </tr>\n",
       "    <tr>\n",
       "      <th>38633</th>\n",
       "      <td>IND</td>\n",
       "      <td>holidayiq-com</td>\n",
       "      <td>Resorts</td>\n",
       "      <td>venture</td>\n",
       "      <td>15000000.0</td>\n",
       "      <td>Entertainment</td>\n",
       "    </tr>\n",
       "    <tr>\n",
       "      <th>38634</th>\n",
       "      <td>IND</td>\n",
       "      <td>holidayiq-com</td>\n",
       "      <td>Resorts</td>\n",
       "      <td>venture</td>\n",
       "      <td>5000000.0</td>\n",
       "      <td>Entertainment</td>\n",
       "    </tr>\n",
       "    <tr>\n",
       "      <th>38635</th>\n",
       "      <td>IND</td>\n",
       "      <td>mettl-com</td>\n",
       "      <td>Skill Assessment</td>\n",
       "      <td>venture</td>\n",
       "      <td>4000000.0</td>\n",
       "      <td>Others</td>\n",
       "    </tr>\n",
       "    <tr>\n",
       "      <th>38636</th>\n",
       "      <td>IND</td>\n",
       "      <td>revx</td>\n",
       "      <td>Mobile Advertising</td>\n",
       "      <td>venture</td>\n",
       "      <td>4000000.0</td>\n",
       "      <td>Social, Finance, Analytics, Advertising</td>\n",
       "    </tr>\n",
       "    <tr>\n",
       "      <th>38637</th>\n",
       "      <td>IND</td>\n",
       "      <td>swajal</td>\n",
       "      <td>Water Purification</td>\n",
       "      <td>venture</td>\n",
       "      <td>1200000.0</td>\n",
       "      <td>Cleantech / Semiconductors</td>\n",
       "    </tr>\n",
       "  </tbody>\n",
       "</table>\n",
       "<p>38638 rows × 6 columns</p>\n",
       "</div>"
      ],
      "text/plain": [
       "      country_code        permalink       category_list funding_round_type  \\\n",
       "0              GBR  10-minutes-with           Education            venture   \n",
       "1              GBR         brainbow           Education            venture   \n",
       "2              GBR   digital-assess           Education            venture   \n",
       "3              GBR   fuse-universal           Education            venture   \n",
       "4              GBR            guroo           Education            venture   \n",
       "...            ...              ...                 ...                ...   \n",
       "38633          IND    holidayiq-com             Resorts            venture   \n",
       "38634          IND    holidayiq-com             Resorts            venture   \n",
       "38635          IND        mettl-com    Skill Assessment            venture   \n",
       "38636          IND             revx  Mobile Advertising            venture   \n",
       "38637          IND           swajal  Water Purification            venture   \n",
       "\n",
       "       raised_amount_usd                              main_sector  \n",
       "0              4000000.0                                   Others  \n",
       "1              7000000.0                                   Others  \n",
       "2              3000000.0                                   Others  \n",
       "3             10000000.0                                   Others  \n",
       "4               759353.0                                   Others  \n",
       "...                  ...                                      ...  \n",
       "38633         15000000.0                            Entertainment  \n",
       "38634          5000000.0                            Entertainment  \n",
       "38635          4000000.0                                   Others  \n",
       "38636          4000000.0  Social, Finance, Analytics, Advertising  \n",
       "38637          1200000.0               Cleantech / Semiconductors  \n",
       "\n",
       "[38638 rows x 6 columns]"
      ]
     },
     "execution_count": 150,
     "metadata": {},
     "output_type": "execute_result"
    }
   ],
   "source": [
    "master_frame3"
   ]
  },
  {
   "cell_type": "code",
   "execution_count": 151,
   "metadata": {},
   "outputs": [],
   "source": [
    "d1=pd.DataFrame(master_frame3[(master_frame3['raised_amount_usd']>=5000000.0) & (master_frame3['raised_amount_usd']<=15000000.0) & (master_frame3['country_code']==top9.index[0])])\n",
    "d2=pd.DataFrame(master_frame3[(master_frame3['raised_amount_usd']>=5000000.0) & (master_frame3['raised_amount_usd']<=15000000.0) & (master_frame3['country_code']==top9.index[1])])\n",
    "d3=pd.DataFrame(master_frame3[(master_frame3['raised_amount_usd']>=5000000.0) & (master_frame3['raised_amount_usd']<=15000000.0) & (master_frame3['country_code']==top9.index[2])])"
   ]
  },
  {
   "cell_type": "code",
   "execution_count": 152,
   "metadata": {},
   "outputs": [
    {
     "data": {
      "text/html": [
       "<div>\n",
       "<style scoped>\n",
       "    .dataframe tbody tr th:only-of-type {\n",
       "        vertical-align: middle;\n",
       "    }\n",
       "\n",
       "    .dataframe tbody tr th {\n",
       "        vertical-align: top;\n",
       "    }\n",
       "\n",
       "    .dataframe thead th {\n",
       "        text-align: right;\n",
       "    }\n",
       "</style>\n",
       "<table border=\"1\" class=\"dataframe\">\n",
       "  <thead>\n",
       "    <tr style=\"text-align: right;\">\n",
       "      <th></th>\n",
       "      <th>main_sector</th>\n",
       "      <th>count_of_investment</th>\n",
       "    </tr>\n",
       "  </thead>\n",
       "  <tbody>\n",
       "    <tr>\n",
       "      <th>0</th>\n",
       "      <td>Automotive &amp; Sports</td>\n",
       "      <td>167</td>\n",
       "    </tr>\n",
       "    <tr>\n",
       "      <th>1</th>\n",
       "      <td>Cleantech / Semiconductors</td>\n",
       "      <td>2300</td>\n",
       "    </tr>\n",
       "    <tr>\n",
       "      <th>2</th>\n",
       "      <td>Entertainment</td>\n",
       "      <td>591</td>\n",
       "    </tr>\n",
       "    <tr>\n",
       "      <th>3</th>\n",
       "      <td>Health</td>\n",
       "      <td>909</td>\n",
       "    </tr>\n",
       "    <tr>\n",
       "      <th>4</th>\n",
       "      <td>Manufacturing</td>\n",
       "      <td>799</td>\n",
       "    </tr>\n",
       "    <tr>\n",
       "      <th>5</th>\n",
       "      <td>News, Search and Messaging</td>\n",
       "      <td>1582</td>\n",
       "    </tr>\n",
       "    <tr>\n",
       "      <th>6</th>\n",
       "      <td>Others</td>\n",
       "      <td>2950</td>\n",
       "    </tr>\n",
       "    <tr>\n",
       "      <th>7</th>\n",
       "      <td>Social, Finance, Analytics, Advertising</td>\n",
       "      <td>2714</td>\n",
       "    </tr>\n",
       "  </tbody>\n",
       "</table>\n",
       "</div>"
      ],
      "text/plain": [
       "                               main_sector  count_of_investment\n",
       "0                      Automotive & Sports                  167\n",
       "1               Cleantech / Semiconductors                 2300\n",
       "2                            Entertainment                  591\n",
       "3                                   Health                  909\n",
       "4                            Manufacturing                  799\n",
       "5               News, Search and Messaging                 1582\n",
       "6                                   Others                 2950\n",
       "7  Social, Finance, Analytics, Advertising                 2714"
      ]
     },
     "execution_count": 152,
     "metadata": {},
     "output_type": "execute_result"
    }
   ],
   "source": [
    "d1_group = d1.groupby(by='main_sector',as_index=False)\n",
    "d1_count = pd.DataFrame(d1_group['raised_amount_usd'].count())\n",
    "d1_count.rename(columns={'raised_amount_usd':'count_of_investment'},inplace=True)\n",
    "d1_count"
   ]
  },
  {
   "cell_type": "code",
   "execution_count": 153,
   "metadata": {},
   "outputs": [
    {
     "data": {
      "text/html": [
       "<div>\n",
       "<style scoped>\n",
       "    .dataframe tbody tr th:only-of-type {\n",
       "        vertical-align: middle;\n",
       "    }\n",
       "\n",
       "    .dataframe tbody tr th {\n",
       "        vertical-align: top;\n",
       "    }\n",
       "\n",
       "    .dataframe thead th {\n",
       "        text-align: right;\n",
       "    }\n",
       "</style>\n",
       "<table border=\"1\" class=\"dataframe\">\n",
       "  <thead>\n",
       "    <tr style=\"text-align: right;\">\n",
       "      <th></th>\n",
       "      <th>country_code</th>\n",
       "      <th>permalink</th>\n",
       "      <th>category_list</th>\n",
       "      <th>funding_round_type</th>\n",
       "      <th>raised_amount_usd</th>\n",
       "      <th>main_sector</th>\n",
       "      <th>count_of_investment</th>\n",
       "    </tr>\n",
       "  </thead>\n",
       "  <tbody>\n",
       "    <tr>\n",
       "      <th>0</th>\n",
       "      <td>USA</td>\n",
       "      <td>17zuoye</td>\n",
       "      <td>Education</td>\n",
       "      <td>venture</td>\n",
       "      <td>5000000.0</td>\n",
       "      <td>Others</td>\n",
       "      <td>2950</td>\n",
       "    </tr>\n",
       "    <tr>\n",
       "      <th>1</th>\n",
       "      <td>USA</td>\n",
       "      <td>17zuoye</td>\n",
       "      <td>Education</td>\n",
       "      <td>venture</td>\n",
       "      <td>10000000.0</td>\n",
       "      <td>Others</td>\n",
       "      <td>2950</td>\n",
       "    </tr>\n",
       "    <tr>\n",
       "      <th>2</th>\n",
       "      <td>USA</td>\n",
       "      <td>5min</td>\n",
       "      <td>Education</td>\n",
       "      <td>venture</td>\n",
       "      <td>5000000.0</td>\n",
       "      <td>Others</td>\n",
       "      <td>2950</td>\n",
       "    </tr>\n",
       "    <tr>\n",
       "      <th>3</th>\n",
       "      <td>USA</td>\n",
       "      <td>5min</td>\n",
       "      <td>Education</td>\n",
       "      <td>venture</td>\n",
       "      <td>7500000.0</td>\n",
       "      <td>Others</td>\n",
       "      <td>2950</td>\n",
       "    </tr>\n",
       "    <tr>\n",
       "      <th>4</th>\n",
       "      <td>USA</td>\n",
       "      <td>altierre</td>\n",
       "      <td>Education</td>\n",
       "      <td>venture</td>\n",
       "      <td>13000000.0</td>\n",
       "      <td>Others</td>\n",
       "      <td>2950</td>\n",
       "    </tr>\n",
       "  </tbody>\n",
       "</table>\n",
       "</div>"
      ],
      "text/plain": [
       "  country_code permalink category_list funding_round_type  raised_amount_usd  \\\n",
       "0          USA   17zuoye     Education            venture          5000000.0   \n",
       "1          USA   17zuoye     Education            venture         10000000.0   \n",
       "2          USA      5min     Education            venture          5000000.0   \n",
       "3          USA      5min     Education            venture          7500000.0   \n",
       "4          USA  altierre     Education            venture         13000000.0   \n",
       "\n",
       "  main_sector  count_of_investment  \n",
       "0      Others                 2950  \n",
       "1      Others                 2950  \n",
       "2      Others                 2950  \n",
       "3      Others                 2950  \n",
       "4      Others                 2950  "
      ]
     },
     "execution_count": 153,
     "metadata": {},
     "output_type": "execute_result"
    }
   ],
   "source": [
    "d1=pd.merge(d1,d1_count,left_on='main_sector',right_on='main_sector')\n",
    "d1.head()"
   ]
  },
  {
   "cell_type": "code",
   "execution_count": 154,
   "metadata": {},
   "outputs": [
    {
     "data": {
      "text/html": [
       "<div>\n",
       "<style scoped>\n",
       "    .dataframe tbody tr th:only-of-type {\n",
       "        vertical-align: middle;\n",
       "    }\n",
       "\n",
       "    .dataframe tbody tr th {\n",
       "        vertical-align: top;\n",
       "    }\n",
       "\n",
       "    .dataframe thead th {\n",
       "        text-align: right;\n",
       "    }\n",
       "</style>\n",
       "<table border=\"1\" class=\"dataframe\">\n",
       "  <thead>\n",
       "    <tr style=\"text-align: right;\">\n",
       "      <th></th>\n",
       "      <th>main_sector</th>\n",
       "      <th>total_amount_of_investment</th>\n",
       "    </tr>\n",
       "  </thead>\n",
       "  <tbody>\n",
       "    <tr>\n",
       "      <th>0</th>\n",
       "      <td>Automotive &amp; Sports</td>\n",
       "      <td>1454104361.0</td>\n",
       "    </tr>\n",
       "    <tr>\n",
       "      <th>1</th>\n",
       "      <td>Cleantech / Semiconductors</td>\n",
       "      <td>21206628192.0</td>\n",
       "    </tr>\n",
       "    <tr>\n",
       "      <th>2</th>\n",
       "      <td>Entertainment</td>\n",
       "      <td>5099197982.0</td>\n",
       "    </tr>\n",
       "    <tr>\n",
       "      <th>3</th>\n",
       "      <td>Health</td>\n",
       "      <td>8211859357.0</td>\n",
       "    </tr>\n",
       "    <tr>\n",
       "      <th>4</th>\n",
       "      <td>Manufacturing</td>\n",
       "      <td>7258553378.0</td>\n",
       "    </tr>\n",
       "    <tr>\n",
       "      <th>5</th>\n",
       "      <td>News, Search and Messaging</td>\n",
       "      <td>13959567428.0</td>\n",
       "    </tr>\n",
       "    <tr>\n",
       "      <th>6</th>\n",
       "      <td>Others</td>\n",
       "      <td>26321007002.0</td>\n",
       "    </tr>\n",
       "    <tr>\n",
       "      <th>7</th>\n",
       "      <td>Social, Finance, Analytics, Advertising</td>\n",
       "      <td>23807376964.0</td>\n",
       "    </tr>\n",
       "  </tbody>\n",
       "</table>\n",
       "</div>"
      ],
      "text/plain": [
       "                               main_sector total_amount_of_investment\n",
       "0                      Automotive & Sports               1454104361.0\n",
       "1               Cleantech / Semiconductors              21206628192.0\n",
       "2                            Entertainment               5099197982.0\n",
       "3                                   Health               8211859357.0\n",
       "4                            Manufacturing               7258553378.0\n",
       "5               News, Search and Messaging              13959567428.0\n",
       "6                                   Others              26321007002.0\n",
       "7  Social, Finance, Analytics, Advertising              23807376964.0"
      ]
     },
     "execution_count": 154,
     "metadata": {},
     "output_type": "execute_result"
    }
   ],
   "source": [
    "#The total amount invested in each main sector for USA\n",
    "d1_group = d1.groupby(by='main_sector',as_index=False)\n",
    "d1_sum = pd.DataFrame(d1_group['raised_amount_usd'].sum())\n",
    "d1_sum.rename(columns={'raised_amount_usd':'total_amount_of_investment'},inplace=True)\n",
    "d1_sum['total_amount_of_investment']=d1_sum['total_amount_of_investment'].apply(lambda x: '{:.1f}'.format(x))\n",
    "d1_sum"
   ]
  },
  {
   "cell_type": "code",
   "execution_count": 155,
   "metadata": {},
   "outputs": [
    {
     "data": {
      "text/html": [
       "<div>\n",
       "<style scoped>\n",
       "    .dataframe tbody tr th:only-of-type {\n",
       "        vertical-align: middle;\n",
       "    }\n",
       "\n",
       "    .dataframe tbody tr th {\n",
       "        vertical-align: top;\n",
       "    }\n",
       "\n",
       "    .dataframe thead th {\n",
       "        text-align: right;\n",
       "    }\n",
       "</style>\n",
       "<table border=\"1\" class=\"dataframe\">\n",
       "  <thead>\n",
       "    <tr style=\"text-align: right;\">\n",
       "      <th></th>\n",
       "      <th>country_code</th>\n",
       "      <th>permalink</th>\n",
       "      <th>category_list</th>\n",
       "      <th>funding_round_type</th>\n",
       "      <th>raised_amount_usd</th>\n",
       "      <th>main_sector</th>\n",
       "      <th>count_of_investment</th>\n",
       "      <th>total_amount_of_investment</th>\n",
       "    </tr>\n",
       "  </thead>\n",
       "  <tbody>\n",
       "    <tr>\n",
       "      <th>0</th>\n",
       "      <td>USA</td>\n",
       "      <td>17zuoye</td>\n",
       "      <td>Education</td>\n",
       "      <td>venture</td>\n",
       "      <td>5000000.0</td>\n",
       "      <td>Others</td>\n",
       "      <td>2950</td>\n",
       "      <td>26321007002.0</td>\n",
       "    </tr>\n",
       "    <tr>\n",
       "      <th>1</th>\n",
       "      <td>USA</td>\n",
       "      <td>17zuoye</td>\n",
       "      <td>Education</td>\n",
       "      <td>venture</td>\n",
       "      <td>10000000.0</td>\n",
       "      <td>Others</td>\n",
       "      <td>2950</td>\n",
       "      <td>26321007002.0</td>\n",
       "    </tr>\n",
       "    <tr>\n",
       "      <th>2</th>\n",
       "      <td>USA</td>\n",
       "      <td>5min</td>\n",
       "      <td>Education</td>\n",
       "      <td>venture</td>\n",
       "      <td>5000000.0</td>\n",
       "      <td>Others</td>\n",
       "      <td>2950</td>\n",
       "      <td>26321007002.0</td>\n",
       "    </tr>\n",
       "    <tr>\n",
       "      <th>3</th>\n",
       "      <td>USA</td>\n",
       "      <td>5min</td>\n",
       "      <td>Education</td>\n",
       "      <td>venture</td>\n",
       "      <td>7500000.0</td>\n",
       "      <td>Others</td>\n",
       "      <td>2950</td>\n",
       "      <td>26321007002.0</td>\n",
       "    </tr>\n",
       "    <tr>\n",
       "      <th>4</th>\n",
       "      <td>USA</td>\n",
       "      <td>altierre</td>\n",
       "      <td>Education</td>\n",
       "      <td>venture</td>\n",
       "      <td>13000000.0</td>\n",
       "      <td>Others</td>\n",
       "      <td>2950</td>\n",
       "      <td>26321007002.0</td>\n",
       "    </tr>\n",
       "    <tr>\n",
       "      <th>...</th>\n",
       "      <td>...</td>\n",
       "      <td>...</td>\n",
       "      <td>...</td>\n",
       "      <td>...</td>\n",
       "      <td>...</td>\n",
       "      <td>...</td>\n",
       "      <td>...</td>\n",
       "      <td>...</td>\n",
       "    </tr>\n",
       "    <tr>\n",
       "      <th>12007</th>\n",
       "      <td>USA</td>\n",
       "      <td>vandyne-superturbo</td>\n",
       "      <td>Auto</td>\n",
       "      <td>venture</td>\n",
       "      <td>15000000.0</td>\n",
       "      <td>Automotive &amp; Sports</td>\n",
       "      <td>167</td>\n",
       "      <td>1454104361.0</td>\n",
       "    </tr>\n",
       "    <tr>\n",
       "      <th>12008</th>\n",
       "      <td>USA</td>\n",
       "      <td>clean-wave-technologies</td>\n",
       "      <td>Electric Vehicles</td>\n",
       "      <td>venture</td>\n",
       "      <td>8762152.0</td>\n",
       "      <td>Automotive &amp; Sports</td>\n",
       "      <td>167</td>\n",
       "      <td>1454104361.0</td>\n",
       "    </tr>\n",
       "    <tr>\n",
       "      <th>12009</th>\n",
       "      <td>USA</td>\n",
       "      <td>venture-vehicles-inc</td>\n",
       "      <td>Electric Vehicles</td>\n",
       "      <td>venture</td>\n",
       "      <td>6000000.0</td>\n",
       "      <td>Automotive &amp; Sports</td>\n",
       "      <td>167</td>\n",
       "      <td>1454104361.0</td>\n",
       "    </tr>\n",
       "    <tr>\n",
       "      <th>12010</th>\n",
       "      <td>USA</td>\n",
       "      <td>isopur-fluid-technologies</td>\n",
       "      <td>Heavy Industry</td>\n",
       "      <td>venture</td>\n",
       "      <td>8000000.0</td>\n",
       "      <td>Automotive &amp; Sports</td>\n",
       "      <td>167</td>\n",
       "      <td>1454104361.0</td>\n",
       "    </tr>\n",
       "    <tr>\n",
       "      <th>12011</th>\n",
       "      <td>USA</td>\n",
       "      <td>metal-networks</td>\n",
       "      <td>Heavy Industry</td>\n",
       "      <td>venture</td>\n",
       "      <td>5000000.0</td>\n",
       "      <td>Automotive &amp; Sports</td>\n",
       "      <td>167</td>\n",
       "      <td>1454104361.0</td>\n",
       "    </tr>\n",
       "  </tbody>\n",
       "</table>\n",
       "<p>12012 rows × 8 columns</p>\n",
       "</div>"
      ],
      "text/plain": [
       "      country_code                  permalink      category_list  \\\n",
       "0              USA                    17zuoye          Education   \n",
       "1              USA                    17zuoye          Education   \n",
       "2              USA                       5min          Education   \n",
       "3              USA                       5min          Education   \n",
       "4              USA                   altierre          Education   \n",
       "...            ...                        ...                ...   \n",
       "12007          USA         vandyne-superturbo               Auto   \n",
       "12008          USA    clean-wave-technologies  Electric Vehicles   \n",
       "12009          USA       venture-vehicles-inc  Electric Vehicles   \n",
       "12010          USA  isopur-fluid-technologies     Heavy Industry   \n",
       "12011          USA             metal-networks     Heavy Industry   \n",
       "\n",
       "      funding_round_type  raised_amount_usd          main_sector  \\\n",
       "0                venture          5000000.0               Others   \n",
       "1                venture         10000000.0               Others   \n",
       "2                venture          5000000.0               Others   \n",
       "3                venture          7500000.0               Others   \n",
       "4                venture         13000000.0               Others   \n",
       "...                  ...                ...                  ...   \n",
       "12007            venture         15000000.0  Automotive & Sports   \n",
       "12008            venture          8762152.0  Automotive & Sports   \n",
       "12009            venture          6000000.0  Automotive & Sports   \n",
       "12010            venture          8000000.0  Automotive & Sports   \n",
       "12011            venture          5000000.0  Automotive & Sports   \n",
       "\n",
       "       count_of_investment total_amount_of_investment  \n",
       "0                     2950              26321007002.0  \n",
       "1                     2950              26321007002.0  \n",
       "2                     2950              26321007002.0  \n",
       "3                     2950              26321007002.0  \n",
       "4                     2950              26321007002.0  \n",
       "...                    ...                        ...  \n",
       "12007                  167               1454104361.0  \n",
       "12008                  167               1454104361.0  \n",
       "12009                  167               1454104361.0  \n",
       "12010                  167               1454104361.0  \n",
       "12011                  167               1454104361.0  \n",
       "\n",
       "[12012 rows x 8 columns]"
      ]
     },
     "execution_count": 155,
     "metadata": {},
     "output_type": "execute_result"
    }
   ],
   "source": [
    "\n",
    "#merge both frames \n",
    "d1=pd.merge(d1,d1_sum,left_on='main_sector',right_on='main_sector')\n",
    "d1"
   ]
  },
  {
   "cell_type": "code",
   "execution_count": 156,
   "metadata": {},
   "outputs": [
    {
     "data": {
      "text/html": [
       "<div>\n",
       "<style scoped>\n",
       "    .dataframe tbody tr th:only-of-type {\n",
       "        vertical-align: middle;\n",
       "    }\n",
       "\n",
       "    .dataframe tbody tr th {\n",
       "        vertical-align: top;\n",
       "    }\n",
       "\n",
       "    .dataframe thead th {\n",
       "        text-align: right;\n",
       "    }\n",
       "</style>\n",
       "<table border=\"1\" class=\"dataframe\">\n",
       "  <thead>\n",
       "    <tr style=\"text-align: right;\">\n",
       "      <th></th>\n",
       "      <th>main_sector</th>\n",
       "      <th>count_of_investment</th>\n",
       "    </tr>\n",
       "  </thead>\n",
       "  <tbody>\n",
       "    <tr>\n",
       "      <th>0</th>\n",
       "      <td>Automotive &amp; Sports</td>\n",
       "      <td>16</td>\n",
       "    </tr>\n",
       "    <tr>\n",
       "      <th>1</th>\n",
       "      <td>Cleantech / Semiconductors</td>\n",
       "      <td>128</td>\n",
       "    </tr>\n",
       "    <tr>\n",
       "      <th>2</th>\n",
       "      <td>Entertainment</td>\n",
       "      <td>56</td>\n",
       "    </tr>\n",
       "    <tr>\n",
       "      <th>3</th>\n",
       "      <td>Health</td>\n",
       "      <td>24</td>\n",
       "    </tr>\n",
       "    <tr>\n",
       "      <th>4</th>\n",
       "      <td>Manufacturing</td>\n",
       "      <td>42</td>\n",
       "    </tr>\n",
       "    <tr>\n",
       "      <th>5</th>\n",
       "      <td>News, Search and Messaging</td>\n",
       "      <td>73</td>\n",
       "    </tr>\n",
       "    <tr>\n",
       "      <th>6</th>\n",
       "      <td>Others</td>\n",
       "      <td>147</td>\n",
       "    </tr>\n",
       "    <tr>\n",
       "      <th>7</th>\n",
       "      <td>Social, Finance, Analytics, Advertising</td>\n",
       "      <td>133</td>\n",
       "    </tr>\n",
       "  </tbody>\n",
       "</table>\n",
       "</div>"
      ],
      "text/plain": [
       "                               main_sector  count_of_investment\n",
       "0                      Automotive & Sports                   16\n",
       "1               Cleantech / Semiconductors                  128\n",
       "2                            Entertainment                   56\n",
       "3                                   Health                   24\n",
       "4                            Manufacturing                   42\n",
       "5               News, Search and Messaging                   73\n",
       "6                                   Others                  147\n",
       "7  Social, Finance, Analytics, Advertising                  133"
      ]
     },
     "execution_count": 156,
     "metadata": {},
     "output_type": "execute_result"
    }
   ],
   "source": [
    "d2_group = d2.groupby(by='main_sector',as_index=False)\n",
    "d2_count = pd.DataFrame(d2_group['raised_amount_usd'].count())\n",
    "d2_count.rename(columns={'raised_amount_usd':'count_of_investment'},inplace=True)\n",
    "d2_count"
   ]
  },
  {
   "cell_type": "code",
   "execution_count": 157,
   "metadata": {},
   "outputs": [
    {
     "data": {
      "text/html": [
       "<div>\n",
       "<style scoped>\n",
       "    .dataframe tbody tr th:only-of-type {\n",
       "        vertical-align: middle;\n",
       "    }\n",
       "\n",
       "    .dataframe tbody tr th {\n",
       "        vertical-align: top;\n",
       "    }\n",
       "\n",
       "    .dataframe thead th {\n",
       "        text-align: right;\n",
       "    }\n",
       "</style>\n",
       "<table border=\"1\" class=\"dataframe\">\n",
       "  <thead>\n",
       "    <tr style=\"text-align: right;\">\n",
       "      <th></th>\n",
       "      <th>country_code</th>\n",
       "      <th>permalink</th>\n",
       "      <th>category_list</th>\n",
       "      <th>funding_round_type</th>\n",
       "      <th>raised_amount_usd</th>\n",
       "      <th>main_sector</th>\n",
       "      <th>count_of_investment</th>\n",
       "    </tr>\n",
       "  </thead>\n",
       "  <tbody>\n",
       "    <tr>\n",
       "      <th>0</th>\n",
       "      <td>GBR</td>\n",
       "      <td>brainbow</td>\n",
       "      <td>Education</td>\n",
       "      <td>venture</td>\n",
       "      <td>7000000.0</td>\n",
       "      <td>Others</td>\n",
       "      <td>147</td>\n",
       "    </tr>\n",
       "    <tr>\n",
       "      <th>1</th>\n",
       "      <td>GBR</td>\n",
       "      <td>fuse-universal</td>\n",
       "      <td>Education</td>\n",
       "      <td>venture</td>\n",
       "      <td>10000000.0</td>\n",
       "      <td>Others</td>\n",
       "      <td>147</td>\n",
       "    </tr>\n",
       "    <tr>\n",
       "      <th>2</th>\n",
       "      <td>GBR</td>\n",
       "      <td>medikidz</td>\n",
       "      <td>Education</td>\n",
       "      <td>venture</td>\n",
       "      <td>5055753.0</td>\n",
       "      <td>Others</td>\n",
       "      <td>147</td>\n",
       "    </tr>\n",
       "    <tr>\n",
       "      <th>3</th>\n",
       "      <td>GBR</td>\n",
       "      <td>acs-clothing</td>\n",
       "      <td>E-Commerce</td>\n",
       "      <td>venture</td>\n",
       "      <td>13359377.0</td>\n",
       "      <td>Others</td>\n",
       "      <td>147</td>\n",
       "    </tr>\n",
       "    <tr>\n",
       "      <th>4</th>\n",
       "      <td>GBR</td>\n",
       "      <td>acs-clothing</td>\n",
       "      <td>E-Commerce</td>\n",
       "      <td>venture</td>\n",
       "      <td>12879637.0</td>\n",
       "      <td>Others</td>\n",
       "      <td>147</td>\n",
       "    </tr>\n",
       "  </tbody>\n",
       "</table>\n",
       "</div>"
      ],
      "text/plain": [
       "  country_code       permalink category_list funding_round_type  \\\n",
       "0          GBR        brainbow     Education            venture   \n",
       "1          GBR  fuse-universal     Education            venture   \n",
       "2          GBR        medikidz     Education            venture   \n",
       "3          GBR    acs-clothing    E-Commerce            venture   \n",
       "4          GBR    acs-clothing    E-Commerce            venture   \n",
       "\n",
       "   raised_amount_usd main_sector  count_of_investment  \n",
       "0          7000000.0      Others                  147  \n",
       "1         10000000.0      Others                  147  \n",
       "2          5055753.0      Others                  147  \n",
       "3         13359377.0      Others                  147  \n",
       "4         12879637.0      Others                  147  "
      ]
     },
     "execution_count": 157,
     "metadata": {},
     "output_type": "execute_result"
    }
   ],
   "source": [
    "d2=pd.merge(d2,d2_count,left_on='main_sector',right_on='main_sector')\n",
    "d2.head()"
   ]
  },
  {
   "cell_type": "code",
   "execution_count": 158,
   "metadata": {},
   "outputs": [
    {
     "data": {
      "text/html": [
       "<div>\n",
       "<style scoped>\n",
       "    .dataframe tbody tr th:only-of-type {\n",
       "        vertical-align: middle;\n",
       "    }\n",
       "\n",
       "    .dataframe tbody tr th {\n",
       "        vertical-align: top;\n",
       "    }\n",
       "\n",
       "    .dataframe thead th {\n",
       "        text-align: right;\n",
       "    }\n",
       "</style>\n",
       "<table border=\"1\" class=\"dataframe\">\n",
       "  <thead>\n",
       "    <tr style=\"text-align: right;\">\n",
       "      <th></th>\n",
       "      <th>main_sector</th>\n",
       "      <th>total_amount_of_investment</th>\n",
       "    </tr>\n",
       "  </thead>\n",
       "  <tbody>\n",
       "    <tr>\n",
       "      <th>0</th>\n",
       "      <td>Automotive &amp; Sports</td>\n",
       "      <td>167051565.0</td>\n",
       "    </tr>\n",
       "    <tr>\n",
       "      <th>1</th>\n",
       "      <td>Cleantech / Semiconductors</td>\n",
       "      <td>1150139665.0</td>\n",
       "    </tr>\n",
       "    <tr>\n",
       "      <th>2</th>\n",
       "      <td>Entertainment</td>\n",
       "      <td>482784687.0</td>\n",
       "    </tr>\n",
       "    <tr>\n",
       "      <th>3</th>\n",
       "      <td>Health</td>\n",
       "      <td>214537510.0</td>\n",
       "    </tr>\n",
       "    <tr>\n",
       "      <th>4</th>\n",
       "      <td>Manufacturing</td>\n",
       "      <td>361940335.0</td>\n",
       "    </tr>\n",
       "    <tr>\n",
       "      <th>5</th>\n",
       "      <td>News, Search and Messaging</td>\n",
       "      <td>615746235.0</td>\n",
       "    </tr>\n",
       "    <tr>\n",
       "      <th>6</th>\n",
       "      <td>Others</td>\n",
       "      <td>1283624289.0</td>\n",
       "    </tr>\n",
       "    <tr>\n",
       "      <th>7</th>\n",
       "      <td>Social, Finance, Analytics, Advertising</td>\n",
       "      <td>1089404014.0</td>\n",
       "    </tr>\n",
       "  </tbody>\n",
       "</table>\n",
       "</div>"
      ],
      "text/plain": [
       "                               main_sector total_amount_of_investment\n",
       "0                      Automotive & Sports                167051565.0\n",
       "1               Cleantech / Semiconductors               1150139665.0\n",
       "2                            Entertainment                482784687.0\n",
       "3                                   Health                214537510.0\n",
       "4                            Manufacturing                361940335.0\n",
       "5               News, Search and Messaging                615746235.0\n",
       "6                                   Others               1283624289.0\n",
       "7  Social, Finance, Analytics, Advertising               1089404014.0"
      ]
     },
     "execution_count": 158,
     "metadata": {},
     "output_type": "execute_result"
    }
   ],
   "source": [
    "#The total amount invested in each main sector for G.B.R.\n",
    "d2_group = d2.groupby(by='main_sector',as_index=False)\n",
    "d2_sum = pd.DataFrame(d2_group['raised_amount_usd'].sum())\n",
    "d2_sum.rename(columns={'raised_amount_usd':'total_amount_of_investment'},inplace=True)\n",
    "d2_sum['total_amount_of_investment']=d2_sum['total_amount_of_investment'].apply(lambda x: '{:.1f}'.format(x))\n",
    "d2_sum"
   ]
  },
  {
   "cell_type": "code",
   "execution_count": 159,
   "metadata": {},
   "outputs": [
    {
     "data": {
      "text/html": [
       "<div>\n",
       "<style scoped>\n",
       "    .dataframe tbody tr th:only-of-type {\n",
       "        vertical-align: middle;\n",
       "    }\n",
       "\n",
       "    .dataframe tbody tr th {\n",
       "        vertical-align: top;\n",
       "    }\n",
       "\n",
       "    .dataframe thead th {\n",
       "        text-align: right;\n",
       "    }\n",
       "</style>\n",
       "<table border=\"1\" class=\"dataframe\">\n",
       "  <thead>\n",
       "    <tr style=\"text-align: right;\">\n",
       "      <th></th>\n",
       "      <th>country_code</th>\n",
       "      <th>permalink</th>\n",
       "      <th>category_list</th>\n",
       "      <th>funding_round_type</th>\n",
       "      <th>raised_amount_usd</th>\n",
       "      <th>main_sector</th>\n",
       "      <th>count_of_investment</th>\n",
       "      <th>total_amount_of_investment</th>\n",
       "    </tr>\n",
       "  </thead>\n",
       "  <tbody>\n",
       "    <tr>\n",
       "      <th>0</th>\n",
       "      <td>GBR</td>\n",
       "      <td>brainbow</td>\n",
       "      <td>Education</td>\n",
       "      <td>venture</td>\n",
       "      <td>7000000.0</td>\n",
       "      <td>Others</td>\n",
       "      <td>147</td>\n",
       "      <td>1283624289.0</td>\n",
       "    </tr>\n",
       "    <tr>\n",
       "      <th>1</th>\n",
       "      <td>GBR</td>\n",
       "      <td>fuse-universal</td>\n",
       "      <td>Education</td>\n",
       "      <td>venture</td>\n",
       "      <td>10000000.0</td>\n",
       "      <td>Others</td>\n",
       "      <td>147</td>\n",
       "      <td>1283624289.0</td>\n",
       "    </tr>\n",
       "    <tr>\n",
       "      <th>2</th>\n",
       "      <td>GBR</td>\n",
       "      <td>medikidz</td>\n",
       "      <td>Education</td>\n",
       "      <td>venture</td>\n",
       "      <td>5055753.0</td>\n",
       "      <td>Others</td>\n",
       "      <td>147</td>\n",
       "      <td>1283624289.0</td>\n",
       "    </tr>\n",
       "    <tr>\n",
       "      <th>3</th>\n",
       "      <td>GBR</td>\n",
       "      <td>acs-clothing</td>\n",
       "      <td>E-Commerce</td>\n",
       "      <td>venture</td>\n",
       "      <td>13359377.0</td>\n",
       "      <td>Others</td>\n",
       "      <td>147</td>\n",
       "      <td>1283624289.0</td>\n",
       "    </tr>\n",
       "    <tr>\n",
       "      <th>4</th>\n",
       "      <td>GBR</td>\n",
       "      <td>acs-clothing</td>\n",
       "      <td>E-Commerce</td>\n",
       "      <td>venture</td>\n",
       "      <td>12879637.0</td>\n",
       "      <td>Others</td>\n",
       "      <td>147</td>\n",
       "      <td>1283624289.0</td>\n",
       "    </tr>\n",
       "  </tbody>\n",
       "</table>\n",
       "</div>"
      ],
      "text/plain": [
       "  country_code       permalink category_list funding_round_type  \\\n",
       "0          GBR        brainbow     Education            venture   \n",
       "1          GBR  fuse-universal     Education            venture   \n",
       "2          GBR        medikidz     Education            venture   \n",
       "3          GBR    acs-clothing    E-Commerce            venture   \n",
       "4          GBR    acs-clothing    E-Commerce            venture   \n",
       "\n",
       "   raised_amount_usd main_sector  count_of_investment  \\\n",
       "0          7000000.0      Others                  147   \n",
       "1         10000000.0      Others                  147   \n",
       "2          5055753.0      Others                  147   \n",
       "3         13359377.0      Others                  147   \n",
       "4         12879637.0      Others                  147   \n",
       "\n",
       "  total_amount_of_investment  \n",
       "0               1283624289.0  \n",
       "1               1283624289.0  \n",
       "2               1283624289.0  \n",
       "3               1283624289.0  \n",
       "4               1283624289.0  "
      ]
     },
     "execution_count": 159,
     "metadata": {},
     "output_type": "execute_result"
    }
   ],
   "source": [
    "d2=pd.merge(d2,d2_sum,left_on='main_sector',right_on='main_sector')\n",
    "d2.head()"
   ]
  },
  {
   "cell_type": "code",
   "execution_count": 160,
   "metadata": {},
   "outputs": [
    {
     "data": {
      "text/html": [
       "<div>\n",
       "<style scoped>\n",
       "    .dataframe tbody tr th:only-of-type {\n",
       "        vertical-align: middle;\n",
       "    }\n",
       "\n",
       "    .dataframe tbody tr th {\n",
       "        vertical-align: top;\n",
       "    }\n",
       "\n",
       "    .dataframe thead th {\n",
       "        text-align: right;\n",
       "    }\n",
       "</style>\n",
       "<table border=\"1\" class=\"dataframe\">\n",
       "  <thead>\n",
       "    <tr style=\"text-align: right;\">\n",
       "      <th></th>\n",
       "      <th>main_sector</th>\n",
       "      <th>count_of_investment</th>\n",
       "    </tr>\n",
       "  </thead>\n",
       "  <tbody>\n",
       "    <tr>\n",
       "      <th>0</th>\n",
       "      <td>Automotive &amp; Sports</td>\n",
       "      <td>13</td>\n",
       "    </tr>\n",
       "    <tr>\n",
       "      <th>1</th>\n",
       "      <td>Cleantech / Semiconductors</td>\n",
       "      <td>20</td>\n",
       "    </tr>\n",
       "    <tr>\n",
       "      <th>2</th>\n",
       "      <td>Entertainment</td>\n",
       "      <td>33</td>\n",
       "    </tr>\n",
       "    <tr>\n",
       "      <th>3</th>\n",
       "      <td>Health</td>\n",
       "      <td>19</td>\n",
       "    </tr>\n",
       "    <tr>\n",
       "      <th>4</th>\n",
       "      <td>Manufacturing</td>\n",
       "      <td>21</td>\n",
       "    </tr>\n",
       "    <tr>\n",
       "      <th>5</th>\n",
       "      <td>News, Search and Messaging</td>\n",
       "      <td>52</td>\n",
       "    </tr>\n",
       "    <tr>\n",
       "      <th>6</th>\n",
       "      <td>Others</td>\n",
       "      <td>110</td>\n",
       "    </tr>\n",
       "    <tr>\n",
       "      <th>7</th>\n",
       "      <td>Social, Finance, Analytics, Advertising</td>\n",
       "      <td>60</td>\n",
       "    </tr>\n",
       "  </tbody>\n",
       "</table>\n",
       "</div>"
      ],
      "text/plain": [
       "                               main_sector  count_of_investment\n",
       "0                      Automotive & Sports                   13\n",
       "1               Cleantech / Semiconductors                   20\n",
       "2                            Entertainment                   33\n",
       "3                                   Health                   19\n",
       "4                            Manufacturing                   21\n",
       "5               News, Search and Messaging                   52\n",
       "6                                   Others                  110\n",
       "7  Social, Finance, Analytics, Advertising                   60"
      ]
     },
     "execution_count": 160,
     "metadata": {},
     "output_type": "execute_result"
    }
   ],
   "source": [
    "#The total number (or count) of investments for each main sector for IND.\n",
    "d3_group = d3.groupby(by='main_sector',as_index=False)\n",
    "d3_count = pd.DataFrame(d3_group['raised_amount_usd'].count())\n",
    "d3_count.rename(columns={'raised_amount_usd':'count_of_investment'},inplace=True)\n",
    "d3_count"
   ]
  },
  {
   "cell_type": "code",
   "execution_count": 161,
   "metadata": {},
   "outputs": [
    {
     "data": {
      "text/html": [
       "<div>\n",
       "<style scoped>\n",
       "    .dataframe tbody tr th:only-of-type {\n",
       "        vertical-align: middle;\n",
       "    }\n",
       "\n",
       "    .dataframe tbody tr th {\n",
       "        vertical-align: top;\n",
       "    }\n",
       "\n",
       "    .dataframe thead th {\n",
       "        text-align: right;\n",
       "    }\n",
       "</style>\n",
       "<table border=\"1\" class=\"dataframe\">\n",
       "  <thead>\n",
       "    <tr style=\"text-align: right;\">\n",
       "      <th></th>\n",
       "      <th>country_code</th>\n",
       "      <th>permalink</th>\n",
       "      <th>category_list</th>\n",
       "      <th>funding_round_type</th>\n",
       "      <th>raised_amount_usd</th>\n",
       "      <th>main_sector</th>\n",
       "      <th>count_of_investment</th>\n",
       "    </tr>\n",
       "  </thead>\n",
       "  <tbody>\n",
       "    <tr>\n",
       "      <th>0</th>\n",
       "      <td>IND</td>\n",
       "      <td>hippocampus-learning-centres</td>\n",
       "      <td>Education</td>\n",
       "      <td>venture</td>\n",
       "      <td>13000000.0</td>\n",
       "      <td>Others</td>\n",
       "      <td>110</td>\n",
       "    </tr>\n",
       "    <tr>\n",
       "      <th>1</th>\n",
       "      <td>IND</td>\n",
       "      <td>hippocampus-learning-centres</td>\n",
       "      <td>Education</td>\n",
       "      <td>venture</td>\n",
       "      <td>5000000.0</td>\n",
       "      <td>Others</td>\n",
       "      <td>110</td>\n",
       "    </tr>\n",
       "    <tr>\n",
       "      <th>2</th>\n",
       "      <td>IND</td>\n",
       "      <td>iprof-learning-solutions</td>\n",
       "      <td>Education</td>\n",
       "      <td>venture</td>\n",
       "      <td>9000000.0</td>\n",
       "      <td>Others</td>\n",
       "      <td>110</td>\n",
       "    </tr>\n",
       "    <tr>\n",
       "      <th>3</th>\n",
       "      <td>IND</td>\n",
       "      <td>iprof-learning-solutions</td>\n",
       "      <td>Education</td>\n",
       "      <td>venture</td>\n",
       "      <td>6000000.0</td>\n",
       "      <td>Others</td>\n",
       "      <td>110</td>\n",
       "    </tr>\n",
       "    <tr>\n",
       "      <th>4</th>\n",
       "      <td>IND</td>\n",
       "      <td>maharana-infrastructure-and-professional-servi...</td>\n",
       "      <td>Education</td>\n",
       "      <td>venture</td>\n",
       "      <td>13300000.0</td>\n",
       "      <td>Others</td>\n",
       "      <td>110</td>\n",
       "    </tr>\n",
       "  </tbody>\n",
       "</table>\n",
       "</div>"
      ],
      "text/plain": [
       "  country_code                                          permalink  \\\n",
       "0          IND                       hippocampus-learning-centres   \n",
       "1          IND                       hippocampus-learning-centres   \n",
       "2          IND                           iprof-learning-solutions   \n",
       "3          IND                           iprof-learning-solutions   \n",
       "4          IND  maharana-infrastructure-and-professional-servi...   \n",
       "\n",
       "  category_list funding_round_type  raised_amount_usd main_sector  \\\n",
       "0     Education            venture         13000000.0      Others   \n",
       "1     Education            venture          5000000.0      Others   \n",
       "2     Education            venture          9000000.0      Others   \n",
       "3     Education            venture          6000000.0      Others   \n",
       "4     Education            venture         13300000.0      Others   \n",
       "\n",
       "   count_of_investment  \n",
       "0                  110  \n",
       "1                  110  \n",
       "2                  110  \n",
       "3                  110  \n",
       "4                  110  "
      ]
     },
     "execution_count": 161,
     "metadata": {},
     "output_type": "execute_result"
    }
   ],
   "source": [
    "d3=pd.merge(d3,d3_count,left_on='main_sector',right_on='main_sector')\n",
    "d3.head()"
   ]
  },
  {
   "cell_type": "code",
   "execution_count": 162,
   "metadata": {},
   "outputs": [
    {
     "data": {
      "text/html": [
       "<div>\n",
       "<style scoped>\n",
       "    .dataframe tbody tr th:only-of-type {\n",
       "        vertical-align: middle;\n",
       "    }\n",
       "\n",
       "    .dataframe tbody tr th {\n",
       "        vertical-align: top;\n",
       "    }\n",
       "\n",
       "    .dataframe thead th {\n",
       "        text-align: right;\n",
       "    }\n",
       "</style>\n",
       "<table border=\"1\" class=\"dataframe\">\n",
       "  <thead>\n",
       "    <tr style=\"text-align: right;\">\n",
       "      <th></th>\n",
       "      <th>main_sector</th>\n",
       "      <th>total_amount_of_investment</th>\n",
       "    </tr>\n",
       "  </thead>\n",
       "  <tbody>\n",
       "    <tr>\n",
       "      <th>0</th>\n",
       "      <td>Automotive &amp; Sports</td>\n",
       "      <td>136900000.0</td>\n",
       "    </tr>\n",
       "    <tr>\n",
       "      <th>1</th>\n",
       "      <td>Cleantech / Semiconductors</td>\n",
       "      <td>165380000.0</td>\n",
       "    </tr>\n",
       "    <tr>\n",
       "      <th>2</th>\n",
       "      <td>Entertainment</td>\n",
       "      <td>280830000.0</td>\n",
       "    </tr>\n",
       "    <tr>\n",
       "      <th>3</th>\n",
       "      <td>Health</td>\n",
       "      <td>167740000.0</td>\n",
       "    </tr>\n",
       "    <tr>\n",
       "      <th>4</th>\n",
       "      <td>Manufacturing</td>\n",
       "      <td>200900000.0</td>\n",
       "    </tr>\n",
       "    <tr>\n",
       "      <th>5</th>\n",
       "      <td>News, Search and Messaging</td>\n",
       "      <td>433834545.0</td>\n",
       "    </tr>\n",
       "    <tr>\n",
       "      <th>6</th>\n",
       "      <td>Others</td>\n",
       "      <td>1013409507.0</td>\n",
       "    </tr>\n",
       "    <tr>\n",
       "      <th>7</th>\n",
       "      <td>Social, Finance, Analytics, Advertising</td>\n",
       "      <td>550549550.0</td>\n",
       "    </tr>\n",
       "  </tbody>\n",
       "</table>\n",
       "</div>"
      ],
      "text/plain": [
       "                               main_sector total_amount_of_investment\n",
       "0                      Automotive & Sports                136900000.0\n",
       "1               Cleantech / Semiconductors                165380000.0\n",
       "2                            Entertainment                280830000.0\n",
       "3                                   Health                167740000.0\n",
       "4                            Manufacturing                200900000.0\n",
       "5               News, Search and Messaging                433834545.0\n",
       "6                                   Others               1013409507.0\n",
       "7  Social, Finance, Analytics, Advertising                550549550.0"
      ]
     },
     "execution_count": 162,
     "metadata": {},
     "output_type": "execute_result"
    }
   ],
   "source": [
    "\n",
    "#The total amount invested in each main sector for IND\n",
    "d3_group = d3.groupby(by='main_sector',as_index=False)\n",
    "d3_sum = pd.DataFrame(d3_group['raised_amount_usd'].sum())\n",
    "d3_sum.rename(columns={'raised_amount_usd':'total_amount_of_investment'},inplace=True)\n",
    "d3_sum['total_amount_of_investment']=d3_sum['total_amount_of_investment'].apply(lambda x: '{:.1f}'.format(x))\n",
    "d3_sum"
   ]
  },
  {
   "cell_type": "code",
   "execution_count": 163,
   "metadata": {},
   "outputs": [
    {
     "data": {
      "text/html": [
       "<div>\n",
       "<style scoped>\n",
       "    .dataframe tbody tr th:only-of-type {\n",
       "        vertical-align: middle;\n",
       "    }\n",
       "\n",
       "    .dataframe tbody tr th {\n",
       "        vertical-align: top;\n",
       "    }\n",
       "\n",
       "    .dataframe thead th {\n",
       "        text-align: right;\n",
       "    }\n",
       "</style>\n",
       "<table border=\"1\" class=\"dataframe\">\n",
       "  <thead>\n",
       "    <tr style=\"text-align: right;\">\n",
       "      <th></th>\n",
       "      <th>country_code</th>\n",
       "      <th>permalink</th>\n",
       "      <th>category_list</th>\n",
       "      <th>funding_round_type</th>\n",
       "      <th>raised_amount_usd</th>\n",
       "      <th>main_sector</th>\n",
       "      <th>count_of_investment</th>\n",
       "      <th>total_amount_of_investment</th>\n",
       "    </tr>\n",
       "  </thead>\n",
       "  <tbody>\n",
       "    <tr>\n",
       "      <th>0</th>\n",
       "      <td>IND</td>\n",
       "      <td>hippocampus-learning-centres</td>\n",
       "      <td>Education</td>\n",
       "      <td>venture</td>\n",
       "      <td>13000000.0</td>\n",
       "      <td>Others</td>\n",
       "      <td>110</td>\n",
       "      <td>1013409507.0</td>\n",
       "    </tr>\n",
       "    <tr>\n",
       "      <th>1</th>\n",
       "      <td>IND</td>\n",
       "      <td>hippocampus-learning-centres</td>\n",
       "      <td>Education</td>\n",
       "      <td>venture</td>\n",
       "      <td>5000000.0</td>\n",
       "      <td>Others</td>\n",
       "      <td>110</td>\n",
       "      <td>1013409507.0</td>\n",
       "    </tr>\n",
       "    <tr>\n",
       "      <th>2</th>\n",
       "      <td>IND</td>\n",
       "      <td>iprof-learning-solutions</td>\n",
       "      <td>Education</td>\n",
       "      <td>venture</td>\n",
       "      <td>9000000.0</td>\n",
       "      <td>Others</td>\n",
       "      <td>110</td>\n",
       "      <td>1013409507.0</td>\n",
       "    </tr>\n",
       "    <tr>\n",
       "      <th>3</th>\n",
       "      <td>IND</td>\n",
       "      <td>iprof-learning-solutions</td>\n",
       "      <td>Education</td>\n",
       "      <td>venture</td>\n",
       "      <td>6000000.0</td>\n",
       "      <td>Others</td>\n",
       "      <td>110</td>\n",
       "      <td>1013409507.0</td>\n",
       "    </tr>\n",
       "    <tr>\n",
       "      <th>4</th>\n",
       "      <td>IND</td>\n",
       "      <td>maharana-infrastructure-and-professional-servi...</td>\n",
       "      <td>Education</td>\n",
       "      <td>venture</td>\n",
       "      <td>13300000.0</td>\n",
       "      <td>Others</td>\n",
       "      <td>110</td>\n",
       "      <td>1013409507.0</td>\n",
       "    </tr>\n",
       "  </tbody>\n",
       "</table>\n",
       "</div>"
      ],
      "text/plain": [
       "  country_code                                          permalink  \\\n",
       "0          IND                       hippocampus-learning-centres   \n",
       "1          IND                       hippocampus-learning-centres   \n",
       "2          IND                           iprof-learning-solutions   \n",
       "3          IND                           iprof-learning-solutions   \n",
       "4          IND  maharana-infrastructure-and-professional-servi...   \n",
       "\n",
       "  category_list funding_round_type  raised_amount_usd main_sector  \\\n",
       "0     Education            venture         13000000.0      Others   \n",
       "1     Education            venture          5000000.0      Others   \n",
       "2     Education            venture          9000000.0      Others   \n",
       "3     Education            venture          6000000.0      Others   \n",
       "4     Education            venture         13300000.0      Others   \n",
       "\n",
       "   count_of_investment total_amount_of_investment  \n",
       "0                  110               1013409507.0  \n",
       "1                  110               1013409507.0  \n",
       "2                  110               1013409507.0  \n",
       "3                  110               1013409507.0  \n",
       "4                  110               1013409507.0  "
      ]
     },
     "execution_count": 163,
     "metadata": {},
     "output_type": "execute_result"
    }
   ],
   "source": [
    "d3=pd.merge(d3,d3_sum,left_on='main_sector',right_on='main_sector')\n",
    "d3.head()"
   ]
  },
  {
   "cell_type": "markdown",
   "metadata": {},
   "source": [
    "##### Q1-Total number of Investments (count) "
   ]
  },
  {
   "cell_type": "code",
   "execution_count": 164,
   "metadata": {},
   "outputs": [
    {
     "data": {
      "text/plain": [
       "12012"
      ]
     },
     "execution_count": 164,
     "metadata": {},
     "output_type": "execute_result"
    }
   ],
   "source": [
    "d1_count['count_of_investment'].sum() #USA"
   ]
  },
  {
   "cell_type": "code",
   "execution_count": 165,
   "metadata": {},
   "outputs": [
    {
     "data": {
      "text/plain": [
       "619"
      ]
     },
     "execution_count": 165,
     "metadata": {},
     "output_type": "execute_result"
    }
   ],
   "source": [
    "d2_count['count_of_investment'].sum() #GBR"
   ]
  },
  {
   "cell_type": "code",
   "execution_count": 166,
   "metadata": {},
   "outputs": [
    {
     "data": {
      "text/plain": [
       "328"
      ]
     },
     "execution_count": 166,
     "metadata": {},
     "output_type": "execute_result"
    }
   ],
   "source": [
    "d3_count['count_of_investment'].sum()  #IND"
   ]
  },
  {
   "cell_type": "markdown",
   "metadata": {},
   "source": [
    "##### Q2-Total amount of investment (USD)"
   ]
  },
  {
   "cell_type": "code",
   "execution_count": 167,
   "metadata": {},
   "outputs": [
    {
     "data": {
      "text/plain": [
       "107318294664.0"
      ]
     },
     "execution_count": 167,
     "metadata": {},
     "output_type": "execute_result"
    }
   ],
   "source": [
    "# USA\n",
    "d1_sum['total_amount_of_investment']=d1_sum['total_amount_of_investment'].astype(dtype=np.float)\n",
    "d1_sum['total_amount_of_investment'].sum()"
   ]
  },
  {
   "cell_type": "code",
   "execution_count": 168,
   "metadata": {},
   "outputs": [
    {
     "data": {
      "text/plain": [
       "5365228300.0"
      ]
     },
     "execution_count": 168,
     "metadata": {},
     "output_type": "execute_result"
    }
   ],
   "source": [
    "# GBR\n",
    "d2_sum['total_amount_of_investment']=d2_sum['total_amount_of_investment'].astype(dtype=np.float)\n",
    "d2_sum['total_amount_of_investment'].sum()"
   ]
  },
  {
   "cell_type": "code",
   "execution_count": 169,
   "metadata": {},
   "outputs": [
    {
     "data": {
      "text/plain": [
       "2949543602.0"
      ]
     },
     "execution_count": 169,
     "metadata": {},
     "output_type": "execute_result"
    }
   ],
   "source": [
    "# IND\n",
    "d3_sum['total_amount_of_investment']=d3_sum['total_amount_of_investment'].astype(dtype=np.float)\n",
    "d3_sum['total_amount_of_investment'].sum()"
   ]
  },
  {
   "cell_type": "markdown",
   "metadata": {},
   "source": [
    "##### Q3-Top Sector name (no. of investment-wise)"
   ]
  },
  {
   "cell_type": "code",
   "execution_count": 170,
   "metadata": {},
   "outputs": [
    {
     "data": {
      "text/html": [
       "<div>\n",
       "<style scoped>\n",
       "    .dataframe tbody tr th:only-of-type {\n",
       "        vertical-align: middle;\n",
       "    }\n",
       "\n",
       "    .dataframe tbody tr th {\n",
       "        vertical-align: top;\n",
       "    }\n",
       "\n",
       "    .dataframe thead th {\n",
       "        text-align: right;\n",
       "    }\n",
       "</style>\n",
       "<table border=\"1\" class=\"dataframe\">\n",
       "  <thead>\n",
       "    <tr style=\"text-align: right;\">\n",
       "      <th></th>\n",
       "      <th>main_sector</th>\n",
       "      <th>count_of_investment</th>\n",
       "    </tr>\n",
       "  </thead>\n",
       "  <tbody>\n",
       "    <tr>\n",
       "      <th>6</th>\n",
       "      <td>Others</td>\n",
       "      <td>2950</td>\n",
       "    </tr>\n",
       "    <tr>\n",
       "      <th>7</th>\n",
       "      <td>Social, Finance, Analytics, Advertising</td>\n",
       "      <td>2714</td>\n",
       "    </tr>\n",
       "    <tr>\n",
       "      <th>1</th>\n",
       "      <td>Cleantech / Semiconductors</td>\n",
       "      <td>2300</td>\n",
       "    </tr>\n",
       "  </tbody>\n",
       "</table>\n",
       "</div>"
      ],
      "text/plain": [
       "                               main_sector  count_of_investment\n",
       "6                                   Others                 2950\n",
       "7  Social, Finance, Analytics, Advertising                 2714\n",
       "1               Cleantech / Semiconductors                 2300"
      ]
     },
     "execution_count": 170,
     "metadata": {},
     "output_type": "execute_result"
    }
   ],
   "source": [
    "usa_top3=d1_count.sort_values(by='count_of_investment',ascending=False).head(3)   #USA\n",
    "usa_top3"
   ]
  },
  {
   "cell_type": "code",
   "execution_count": 171,
   "metadata": {},
   "outputs": [
    {
     "data": {
      "text/html": [
       "<div>\n",
       "<style scoped>\n",
       "    .dataframe tbody tr th:only-of-type {\n",
       "        vertical-align: middle;\n",
       "    }\n",
       "\n",
       "    .dataframe tbody tr th {\n",
       "        vertical-align: top;\n",
       "    }\n",
       "\n",
       "    .dataframe thead th {\n",
       "        text-align: right;\n",
       "    }\n",
       "</style>\n",
       "<table border=\"1\" class=\"dataframe\">\n",
       "  <thead>\n",
       "    <tr style=\"text-align: right;\">\n",
       "      <th></th>\n",
       "      <th>main_sector</th>\n",
       "      <th>count_of_investment</th>\n",
       "    </tr>\n",
       "  </thead>\n",
       "  <tbody>\n",
       "    <tr>\n",
       "      <th>6</th>\n",
       "      <td>Others</td>\n",
       "      <td>147</td>\n",
       "    </tr>\n",
       "    <tr>\n",
       "      <th>7</th>\n",
       "      <td>Social, Finance, Analytics, Advertising</td>\n",
       "      <td>133</td>\n",
       "    </tr>\n",
       "    <tr>\n",
       "      <th>1</th>\n",
       "      <td>Cleantech / Semiconductors</td>\n",
       "      <td>128</td>\n",
       "    </tr>\n",
       "  </tbody>\n",
       "</table>\n",
       "</div>"
      ],
      "text/plain": [
       "                               main_sector  count_of_investment\n",
       "6                                   Others                  147\n",
       "7  Social, Finance, Analytics, Advertising                  133\n",
       "1               Cleantech / Semiconductors                  128"
      ]
     },
     "execution_count": 171,
     "metadata": {},
     "output_type": "execute_result"
    }
   ],
   "source": [
    "gbr_top3=d2_count.sort_values(by='count_of_investment',ascending=False).head(3)  #GBR\n",
    "gbr_top3"
   ]
  },
  {
   "cell_type": "code",
   "execution_count": 172,
   "metadata": {},
   "outputs": [
    {
     "data": {
      "text/html": [
       "<div>\n",
       "<style scoped>\n",
       "    .dataframe tbody tr th:only-of-type {\n",
       "        vertical-align: middle;\n",
       "    }\n",
       "\n",
       "    .dataframe tbody tr th {\n",
       "        vertical-align: top;\n",
       "    }\n",
       "\n",
       "    .dataframe thead th {\n",
       "        text-align: right;\n",
       "    }\n",
       "</style>\n",
       "<table border=\"1\" class=\"dataframe\">\n",
       "  <thead>\n",
       "    <tr style=\"text-align: right;\">\n",
       "      <th></th>\n",
       "      <th>main_sector</th>\n",
       "      <th>count_of_investment</th>\n",
       "    </tr>\n",
       "  </thead>\n",
       "  <tbody>\n",
       "    <tr>\n",
       "      <th>6</th>\n",
       "      <td>Others</td>\n",
       "      <td>110</td>\n",
       "    </tr>\n",
       "    <tr>\n",
       "      <th>7</th>\n",
       "      <td>Social, Finance, Analytics, Advertising</td>\n",
       "      <td>60</td>\n",
       "    </tr>\n",
       "    <tr>\n",
       "      <th>5</th>\n",
       "      <td>News, Search and Messaging</td>\n",
       "      <td>52</td>\n",
       "    </tr>\n",
       "  </tbody>\n",
       "</table>\n",
       "</div>"
      ],
      "text/plain": [
       "                               main_sector  count_of_investment\n",
       "6                                   Others                  110\n",
       "7  Social, Finance, Analytics, Advertising                   60\n",
       "5               News, Search and Messaging                   52"
      ]
     },
     "execution_count": 172,
     "metadata": {},
     "output_type": "execute_result"
    }
   ],
   "source": [
    "ind_top3=d3_count.sort_values(by='count_of_investment',ascending=False).head(3)  #IND\n",
    "ind_top3"
   ]
  },
  {
   "cell_type": "markdown",
   "metadata": {},
   "source": [
    "\n",
    "##### For the top sector count-wise , which company received the highest investment?"
   ]
  },
  {
   "cell_type": "code",
   "execution_count": 173,
   "metadata": {},
   "outputs": [
    {
     "data": {
      "text/html": [
       "<div>\n",
       "<style scoped>\n",
       "    .dataframe tbody tr th:only-of-type {\n",
       "        vertical-align: middle;\n",
       "    }\n",
       "\n",
       "    .dataframe tbody tr th {\n",
       "        vertical-align: top;\n",
       "    }\n",
       "\n",
       "    .dataframe thead th {\n",
       "        text-align: right;\n",
       "    }\n",
       "</style>\n",
       "<table border=\"1\" class=\"dataframe\">\n",
       "  <thead>\n",
       "    <tr style=\"text-align: right;\">\n",
       "      <th></th>\n",
       "      <th>raised_amount_usd</th>\n",
       "      <th>count_of_investment</th>\n",
       "    </tr>\n",
       "    <tr>\n",
       "      <th>permalink</th>\n",
       "      <th></th>\n",
       "      <th></th>\n",
       "    </tr>\n",
       "  </thead>\n",
       "  <tbody>\n",
       "    <tr>\n",
       "      <th>virtustream</th>\n",
       "      <td>64300000.0</td>\n",
       "      <td>17700</td>\n",
       "    </tr>\n",
       "  </tbody>\n",
       "</table>\n",
       "</div>"
      ],
      "text/plain": [
       "             raised_amount_usd  count_of_investment\n",
       "permalink                                          \n",
       "virtustream         64300000.0                17700"
      ]
     },
     "execution_count": 173,
     "metadata": {},
     "output_type": "execute_result"
    }
   ],
   "source": [
    "d1[d1['main_sector']=='Others'].groupby(by='permalink').sum().sort_values(by='raised_amount_usd',ascending=False).head(1)  #USA"
   ]
  },
  {
   "cell_type": "code",
   "execution_count": 174,
   "metadata": {},
   "outputs": [
    {
     "data": {
      "text/html": [
       "<div>\n",
       "<style scoped>\n",
       "    .dataframe tbody tr th:only-of-type {\n",
       "        vertical-align: middle;\n",
       "    }\n",
       "\n",
       "    .dataframe tbody tr th {\n",
       "        vertical-align: top;\n",
       "    }\n",
       "\n",
       "    .dataframe thead th {\n",
       "        text-align: right;\n",
       "    }\n",
       "</style>\n",
       "<table border=\"1\" class=\"dataframe\">\n",
       "  <thead>\n",
       "    <tr style=\"text-align: right;\">\n",
       "      <th></th>\n",
       "      <th>raised_amount_usd</th>\n",
       "      <th>count_of_investment</th>\n",
       "    </tr>\n",
       "    <tr>\n",
       "      <th>permalink</th>\n",
       "      <th></th>\n",
       "      <th></th>\n",
       "    </tr>\n",
       "  </thead>\n",
       "  <tbody>\n",
       "    <tr>\n",
       "      <th>electric-cloud</th>\n",
       "      <td>37000000.0</td>\n",
       "      <td>588</td>\n",
       "    </tr>\n",
       "  </tbody>\n",
       "</table>\n",
       "</div>"
      ],
      "text/plain": [
       "                raised_amount_usd  count_of_investment\n",
       "permalink                                             \n",
       "electric-cloud         37000000.0                  588"
      ]
     },
     "execution_count": 174,
     "metadata": {},
     "output_type": "execute_result"
    }
   ],
   "source": [
    "d2[d2['main_sector']=='Others'].groupby(by='permalink').sum().sort_values(by='raised_amount_usd',ascending=False).head(1) #GBR"
   ]
  },
  {
   "cell_type": "code",
   "execution_count": 175,
   "metadata": {},
   "outputs": [
    {
     "data": {
      "text/html": [
       "<div>\n",
       "<style scoped>\n",
       "    .dataframe tbody tr th:only-of-type {\n",
       "        vertical-align: middle;\n",
       "    }\n",
       "\n",
       "    .dataframe tbody tr th {\n",
       "        vertical-align: top;\n",
       "    }\n",
       "\n",
       "    .dataframe thead th {\n",
       "        text-align: right;\n",
       "    }\n",
       "</style>\n",
       "<table border=\"1\" class=\"dataframe\">\n",
       "  <thead>\n",
       "    <tr style=\"text-align: right;\">\n",
       "      <th></th>\n",
       "      <th>raised_amount_usd</th>\n",
       "      <th>count_of_investment</th>\n",
       "    </tr>\n",
       "    <tr>\n",
       "      <th>permalink</th>\n",
       "      <th></th>\n",
       "      <th></th>\n",
       "    </tr>\n",
       "  </thead>\n",
       "  <tbody>\n",
       "    <tr>\n",
       "      <th>firstcry-com</th>\n",
       "      <td>39000000.0</td>\n",
       "      <td>330</td>\n",
       "    </tr>\n",
       "  </tbody>\n",
       "</table>\n",
       "</div>"
      ],
      "text/plain": [
       "              raised_amount_usd  count_of_investment\n",
       "permalink                                           \n",
       "firstcry-com         39000000.0                  330"
      ]
     },
     "execution_count": 175,
     "metadata": {},
     "output_type": "execute_result"
    }
   ],
   "source": [
    "d3[d3['main_sector']=='Others'].groupby(by='permalink').sum().sort_values(by='raised_amount_usd',ascending=False).head(1) #IND"
   ]
  },
  {
   "cell_type": "markdown",
   "metadata": {},
   "source": [
    "##### For the second-best sector count-wise, which company received the highest investment?"
   ]
  },
  {
   "cell_type": "code",
   "execution_count": 176,
   "metadata": {},
   "outputs": [
    {
     "data": {
      "text/html": [
       "<div>\n",
       "<style scoped>\n",
       "    .dataframe tbody tr th:only-of-type {\n",
       "        vertical-align: middle;\n",
       "    }\n",
       "\n",
       "    .dataframe tbody tr th {\n",
       "        vertical-align: top;\n",
       "    }\n",
       "\n",
       "    .dataframe thead th {\n",
       "        text-align: right;\n",
       "    }\n",
       "</style>\n",
       "<table border=\"1\" class=\"dataframe\">\n",
       "  <thead>\n",
       "    <tr style=\"text-align: right;\">\n",
       "      <th></th>\n",
       "      <th>raised_amount_usd</th>\n",
       "      <th>count_of_investment</th>\n",
       "    </tr>\n",
       "    <tr>\n",
       "      <th>permalink</th>\n",
       "      <th></th>\n",
       "      <th></th>\n",
       "    </tr>\n",
       "  </thead>\n",
       "  <tbody>\n",
       "    <tr>\n",
       "      <th>biodesix</th>\n",
       "      <td>75300000.0</td>\n",
       "      <td>18400</td>\n",
       "    </tr>\n",
       "  </tbody>\n",
       "</table>\n",
       "</div>"
      ],
      "text/plain": [
       "           raised_amount_usd  count_of_investment\n",
       "permalink                                        \n",
       "biodesix          75300000.0                18400"
      ]
     },
     "execution_count": 176,
     "metadata": {},
     "output_type": "execute_result"
    }
   ],
   "source": [
    "#USA\n",
    "\n",
    "d1[d1['main_sector']=='Cleantech / Semiconductors'].groupby(by='permalink').sum().sort_values(by='raised_amount_usd',ascending=False).head(1)"
   ]
  },
  {
   "cell_type": "code",
   "execution_count": 177,
   "metadata": {},
   "outputs": [
    {
     "data": {
      "text/html": [
       "<div>\n",
       "<style scoped>\n",
       "    .dataframe tbody tr th:only-of-type {\n",
       "        vertical-align: middle;\n",
       "    }\n",
       "\n",
       "    .dataframe tbody tr th {\n",
       "        vertical-align: top;\n",
       "    }\n",
       "\n",
       "    .dataframe thead th {\n",
       "        text-align: right;\n",
       "    }\n",
       "</style>\n",
       "<table border=\"1\" class=\"dataframe\">\n",
       "  <thead>\n",
       "    <tr style=\"text-align: right;\">\n",
       "      <th></th>\n",
       "      <th>raised_amount_usd</th>\n",
       "      <th>count_of_investment</th>\n",
       "    </tr>\n",
       "    <tr>\n",
       "      <th>permalink</th>\n",
       "      <th></th>\n",
       "      <th></th>\n",
       "    </tr>\n",
       "  </thead>\n",
       "  <tbody>\n",
       "    <tr>\n",
       "      <th>eusa-pharma</th>\n",
       "      <td>35600000.0</td>\n",
       "      <td>384</td>\n",
       "    </tr>\n",
       "  </tbody>\n",
       "</table>\n",
       "</div>"
      ],
      "text/plain": [
       "             raised_amount_usd  count_of_investment\n",
       "permalink                                          \n",
       "eusa-pharma         35600000.0                  384"
      ]
     },
     "execution_count": 177,
     "metadata": {},
     "output_type": "execute_result"
    }
   ],
   "source": [
    "#GBR\n",
    "\n",
    "d2[d2['main_sector']=='Cleantech / Semiconductors'].groupby(by='permalink').sum().sort_values(by='raised_amount_usd',ascending=False).head(1)"
   ]
  },
  {
   "cell_type": "code",
   "execution_count": 178,
   "metadata": {},
   "outputs": [
    {
     "data": {
      "text/html": [
       "<div>\n",
       "<style scoped>\n",
       "    .dataframe tbody tr th:only-of-type {\n",
       "        vertical-align: middle;\n",
       "    }\n",
       "\n",
       "    .dataframe tbody tr th {\n",
       "        vertical-align: top;\n",
       "    }\n",
       "\n",
       "    .dataframe thead th {\n",
       "        text-align: right;\n",
       "    }\n",
       "</style>\n",
       "<table border=\"1\" class=\"dataframe\">\n",
       "  <thead>\n",
       "    <tr style=\"text-align: right;\">\n",
       "      <th></th>\n",
       "      <th>raised_amount_usd</th>\n",
       "      <th>count_of_investment</th>\n",
       "    </tr>\n",
       "    <tr>\n",
       "      <th>permalink</th>\n",
       "      <th></th>\n",
       "      <th></th>\n",
       "    </tr>\n",
       "  </thead>\n",
       "  <tbody>\n",
       "    <tr>\n",
       "      <th>azure-power</th>\n",
       "      <td>47200000.0</td>\n",
       "      <td>80</td>\n",
       "    </tr>\n",
       "  </tbody>\n",
       "</table>\n",
       "</div>"
      ],
      "text/plain": [
       "             raised_amount_usd  count_of_investment\n",
       "permalink                                          \n",
       "azure-power         47200000.0                   80"
      ]
     },
     "execution_count": 178,
     "metadata": {},
     "output_type": "execute_result"
    }
   ],
   "source": [
    "#IND\n",
    "\n",
    "d3[d3['main_sector']=='Cleantech / Semiconductors'].groupby(by='permalink').sum().sort_values(by='raised_amount_usd',ascending=False).head(1)"
   ]
  },
  {
   "cell_type": "markdown",
   "metadata": {},
   "source": [
    "## Data Visuliaztions"
   ]
  },
  {
   "cell_type": "code",
   "execution_count": 179,
   "metadata": {},
   "outputs": [],
   "source": [
    "import seaborn as sb\n",
    "from matplotlib import pyplot as plt"
   ]
  },
  {
   "cell_type": "code",
   "execution_count": 180,
   "metadata": {},
   "outputs": [
    {
     "data": {
      "text/html": [
       "<div>\n",
       "<style scoped>\n",
       "    .dataframe tbody tr th:only-of-type {\n",
       "        vertical-align: middle;\n",
       "    }\n",
       "\n",
       "    .dataframe tbody tr th {\n",
       "        vertical-align: top;\n",
       "    }\n",
       "\n",
       "    .dataframe thead th {\n",
       "        text-align: right;\n",
       "    }\n",
       "</style>\n",
       "<table border=\"1\" class=\"dataframe\">\n",
       "  <thead>\n",
       "    <tr style=\"text-align: right;\">\n",
       "      <th></th>\n",
       "      <th>raised_amount_usd</th>\n",
       "    </tr>\n",
       "    <tr>\n",
       "      <th>funding_round_type</th>\n",
       "      <th></th>\n",
       "    </tr>\n",
       "  </thead>\n",
       "  <tbody>\n",
       "    <tr>\n",
       "      <th>angel</th>\n",
       "      <td>0.60</td>\n",
       "    </tr>\n",
       "    <tr>\n",
       "      <th>private_equity</th>\n",
       "      <td>18.82</td>\n",
       "    </tr>\n",
       "    <tr>\n",
       "      <th>seed</th>\n",
       "      <td>2.21</td>\n",
       "    </tr>\n",
       "    <tr>\n",
       "      <th>venture</th>\n",
       "      <td>78.38</td>\n",
       "    </tr>\n",
       "  </tbody>\n",
       "</table>\n",
       "</div>"
      ],
      "text/plain": [
       "                    raised_amount_usd\n",
       "funding_round_type                   \n",
       "angel                            0.60\n",
       "private_equity                  18.82\n",
       "seed                             2.21\n",
       "venture                         78.38"
      ]
     },
     "execution_count": 180,
     "metadata": {},
     "output_type": "execute_result"
    }
   ],
   "source": [
    "#plot for total investment\n",
    "\n",
    "master_group_plot=master_frame1.groupby(by='funding_round_type')\n",
    "df_plot1 = pd.DataFrame(master_group_plot['raised_amount_usd'].sum())\n",
    "\n",
    "sum_plot_df = pd.DataFrame(round(100*(df_plot1['raised_amount_usd'])/sum(df_plot1['raised_amount_usd']),2))\n",
    "sum_plot_df"
   ]
  },
  {
   "cell_type": "code",
   "execution_count": 181,
   "metadata": {},
   "outputs": [
    {
     "data": {
      "image/png": "[encoded data removed]",
      "text/plain": [
       "<Figure size 432x288 with 1 Axes>"
      ]
     },
     "metadata": {
      "needs_background": "light"
     },
     "output_type": "display_data"
    }
   ],
   "source": [
    "plot1 = sb.barplot(x=sum_plot_df.index,y='raised_amount_usd',data=sum_plot_df)\n",
    "plot1.set(title='Total Investment')\n",
    "plt.show()"
   ]
  },
  {
   "cell_type": "code",
   "execution_count": 182,
   "metadata": {},
   "outputs": [
    {
     "data": {
      "text/html": [
       "<div>\n",
       "<style scoped>\n",
       "    .dataframe tbody tr th:only-of-type {\n",
       "        vertical-align: middle;\n",
       "    }\n",
       "\n",
       "    .dataframe tbody tr th {\n",
       "        vertical-align: top;\n",
       "    }\n",
       "\n",
       "    .dataframe thead th {\n",
       "        text-align: right;\n",
       "    }\n",
       "</style>\n",
       "<table border=\"1\" class=\"dataframe\">\n",
       "  <thead>\n",
       "    <tr style=\"text-align: right;\">\n",
       "      <th></th>\n",
       "      <th>raised_amount_usd</th>\n",
       "    </tr>\n",
       "    <tr>\n",
       "      <th>funding_round_type</th>\n",
       "      <th></th>\n",
       "    </tr>\n",
       "  </thead>\n",
       "  <tbody>\n",
       "    <tr>\n",
       "      <th>angel</th>\n",
       "      <td>1.11</td>\n",
       "    </tr>\n",
       "    <tr>\n",
       "      <th>private_equity</th>\n",
       "      <td>84.62</td>\n",
       "    </tr>\n",
       "    <tr>\n",
       "      <th>seed</th>\n",
       "      <td>0.86</td>\n",
       "    </tr>\n",
       "    <tr>\n",
       "      <th>venture</th>\n",
       "      <td>13.42</td>\n",
       "    </tr>\n",
       "  </tbody>\n",
       "</table>\n",
       "</div>"
      ],
      "text/plain": [
       "                    raised_amount_usd\n",
       "funding_round_type                   \n",
       "angel                            1.11\n",
       "private_equity                  84.62\n",
       "seed                             0.86\n",
       "venture                         13.42"
      ]
     },
     "execution_count": 182,
     "metadata": {},
     "output_type": "execute_result"
    }
   ],
   "source": [
    "# for AVG of all funding round type\n",
    "\n",
    "df_plot2 = pd.DataFrame(master_group_plot['raised_amount_usd'].mean())\n",
    "\n",
    "AVG_plot_df = pd.DataFrame(round(100*(df_plot2['raised_amount_usd'])/sum(df_plot2['raised_amount_usd']),2))\n",
    "AVG_plot_df"
   ]
  },
  {
   "cell_type": "code",
   "execution_count": 183,
   "metadata": {},
   "outputs": [
    {
     "data": {
      "image/png": "[encoded data removed]",
      "text/plain": [
       "<Figure size 432x288 with 1 Axes>"
      ]
     },
     "metadata": {
      "needs_background": "light"
     },
     "output_type": "display_data"
    }
   ],
   "source": [
    "plot2 = sb.barplot(x=sum_plot_df.index,y='raised_amount_usd',data=AVG_plot_df)\n",
    "plot2.set(title='AVG Investment')\n",
    "plt.show()"
   ]
  },
  {
   "cell_type": "markdown",
   "metadata": {},
   "source": [
    "##### showing  top 9 countries against the total amount of investments of funding type ."
   ]
  },
  {
   "cell_type": "code",
   "execution_count": 186,
   "metadata": {},
   "outputs": [
    {
     "data": {
      "image/png": "[encoded data removed]",
      "text/plain": [
       "<Figure size 1152x432 with 1 Axes>"
      ]
     },
     "metadata": {
      "needs_background": "light"
     },
     "output_type": "display_data"
    }
   ],
   "source": [
    "plt.figure(figsize=(16,6))\n",
    "top9['raised_amount_usd'] = top9['raised_amount_usd'].astype(np.float64)\n",
    "plot3 = sb.barplot(x=top9.index, y=\"raised_amount_usd\",data=top9)\n",
    "plot3.set(title='VENTURE')\n",
    "plt.yscale('log')\n",
    "plt.show()"
   ]
  },
  {
   "cell_type": "markdown",
   "metadata": {},
   "source": [
    "##### top 3 sectors of the top 3 countries¶"
   ]
  },
  {
   "cell_type": "code",
   "execution_count": 187,
   "metadata": {},
   "outputs": [
    {
     "data": {
      "image/png": "[encoded data removed]",
      "text/plain": [
       "<Figure size 1152x432 with 3 Axes>"
      ]
     },
     "metadata": {
      "needs_background": "light"
     },
     "output_type": "display_data"
    }
   ],
   "source": [
    "plt.figure(figsize=(16,6))\n",
    "plt.subplot(1, 3, 1)\n",
    "plot4=sb.countplot(x=\"main_sector\",data=d1[d1['main_sector'].isin(usa_top3['main_sector'])])\n",
    "plot4.set(xlabel='', ylabel='TOTAL NUMBER OF INVESTMENT',title='USA')\n",
    "plt.xticks(rotation=90)\n",
    "plt.subplot(1, 3, 2)\n",
    "plot5=sb.countplot(x=\"main_sector\",data=d2[d2['main_sector'].isin(gbr_top3['main_sector'])])\n",
    "plot5.set(xlabel='', ylabel='TOTAL NUMBER OF INVESTMENT',title='GBR')\n",
    "plt.xticks(rotation=90)\n",
    "plt.subplot(1, 3, 3)\n",
    "plot6 = sb.countplot(x=\"main_sector\",data=d3[d3['main_sector'].isin(ind_top3['main_sector'])])\n",
    "plot6.set(xlabel='', ylabel='TOTAL NUMBER OF INVESTMENT',title='IND')\n",
    "plt.suptitle(\"INVESTMENTS OF TOP 3 COUNTRIES IN TOP 3 SECTORS\")\n",
    "plt.xticks(rotation=90)\n",
    "plt.show()"
   ]
  },
  {
   "cell_type": "code",
   "execution_count": null,
   "metadata": {},
   "outputs": [],
   "source": []
  }
 ],
 "metadata": {
  "kernelspec": {
   "display_name": "Python 3",
   "language": "python",
   "name": "python3"
  },
  "language_info": {
   "codemirror_mode": {
    "name": "ipython",
    "version": 3
   },
   "file_extension": ".py",
   "mimetype": "text/x-python",
   "name": "python",
   "nbconvert_exporter": "python",
   "pygments_lexer": "ipython3",
   "version": "3.8.3"
  }
 },
 "nbformat": 4,
 "nbformat_minor": 4
}
